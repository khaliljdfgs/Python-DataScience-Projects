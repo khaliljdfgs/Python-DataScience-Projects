{
 "cells": [
  {
   "cell_type": "code",
   "execution_count": 1,
   "metadata": {},
   "outputs": [],
   "source": [
    "import pandas as pd\n",
    "import matplotlib.pyplot as plt\n",
    "from sklearn import preprocessing\n",
    "from sklearn.metrics import accuracy_score\n",
    "from sklearn.model_selection import train_test_split\n",
    "from sklearn.linear_model import LogisticRegression\n",
    "from sklearn.svm import LinearSVC\n",
    "from sklearn.ensemble import RandomForestClassifier\n",
    "\n",
    "from sklearn.metrics import precision_recall_fscore_support\n",
    "from sklearn.model_selection import KFold\n",
    "from sklearn.model_selection import StratifiedKFold\n",
    "import pickle"
   ]
  },
  {
   "cell_type": "code",
   "execution_count": 2,
   "metadata": {},
   "outputs": [],
   "source": [
    "allData_df = pd.read_csv(\"credit card defaulter/data_set_credit_card.csv\")"
   ]
  },
  {
   "cell_type": "code",
   "execution_count": 3,
   "metadata": {},
   "outputs": [
    {
     "data": {
      "text/html": [
       "<div>\n",
       "<style scoped>\n",
       "    .dataframe tbody tr th:only-of-type {\n",
       "        vertical-align: middle;\n",
       "    }\n",
       "\n",
       "    .dataframe tbody tr th {\n",
       "        vertical-align: top;\n",
       "    }\n",
       "\n",
       "    .dataframe thead th {\n",
       "        text-align: right;\n",
       "    }\n",
       "</style>\n",
       "<table border=\"1\" class=\"dataframe\">\n",
       "  <thead>\n",
       "    <tr style=\"text-align: right;\">\n",
       "      <th></th>\n",
       "      <th>ID</th>\n",
       "      <th>LIMIT_BAL</th>\n",
       "      <th>SEX</th>\n",
       "      <th>EDUCATION</th>\n",
       "      <th>MARRIAGE</th>\n",
       "      <th>AGE</th>\n",
       "      <th>PAY_0</th>\n",
       "      <th>PAY_2</th>\n",
       "      <th>PAY_3</th>\n",
       "      <th>PAY_4</th>\n",
       "      <th>...</th>\n",
       "      <th>BILL_AMT4</th>\n",
       "      <th>BILL_AMT5</th>\n",
       "      <th>BILL_AMT6</th>\n",
       "      <th>PAY_AMT1</th>\n",
       "      <th>PAY_AMT2</th>\n",
       "      <th>PAY_AMT3</th>\n",
       "      <th>PAY_AMT4</th>\n",
       "      <th>PAY_AMT5</th>\n",
       "      <th>PAY_AMT6</th>\n",
       "      <th>default payment next month</th>\n",
       "    </tr>\n",
       "  </thead>\n",
       "  <tbody>\n",
       "    <tr>\n",
       "      <th>0</th>\n",
       "      <td>1</td>\n",
       "      <td>20000</td>\n",
       "      <td>2</td>\n",
       "      <td>2</td>\n",
       "      <td>1</td>\n",
       "      <td>24</td>\n",
       "      <td>2</td>\n",
       "      <td>2</td>\n",
       "      <td>-1</td>\n",
       "      <td>-1</td>\n",
       "      <td>...</td>\n",
       "      <td>0</td>\n",
       "      <td>0</td>\n",
       "      <td>0</td>\n",
       "      <td>0</td>\n",
       "      <td>689</td>\n",
       "      <td>0</td>\n",
       "      <td>0</td>\n",
       "      <td>0</td>\n",
       "      <td>0</td>\n",
       "      <td>1</td>\n",
       "    </tr>\n",
       "    <tr>\n",
       "      <th>1</th>\n",
       "      <td>2</td>\n",
       "      <td>120000</td>\n",
       "      <td>2</td>\n",
       "      <td>2</td>\n",
       "      <td>2</td>\n",
       "      <td>26</td>\n",
       "      <td>-1</td>\n",
       "      <td>2</td>\n",
       "      <td>0</td>\n",
       "      <td>0</td>\n",
       "      <td>...</td>\n",
       "      <td>3272</td>\n",
       "      <td>3455</td>\n",
       "      <td>3261</td>\n",
       "      <td>0</td>\n",
       "      <td>1000</td>\n",
       "      <td>1000</td>\n",
       "      <td>1000</td>\n",
       "      <td>0</td>\n",
       "      <td>2000</td>\n",
       "      <td>1</td>\n",
       "    </tr>\n",
       "    <tr>\n",
       "      <th>2</th>\n",
       "      <td>14</td>\n",
       "      <td>70000</td>\n",
       "      <td>1</td>\n",
       "      <td>2</td>\n",
       "      <td>2</td>\n",
       "      <td>30</td>\n",
       "      <td>1</td>\n",
       "      <td>2</td>\n",
       "      <td>2</td>\n",
       "      <td>0</td>\n",
       "      <td>...</td>\n",
       "      <td>66782</td>\n",
       "      <td>36137</td>\n",
       "      <td>36894</td>\n",
       "      <td>3200</td>\n",
       "      <td>0</td>\n",
       "      <td>3000</td>\n",
       "      <td>3000</td>\n",
       "      <td>1500</td>\n",
       "      <td>0</td>\n",
       "      <td>1</td>\n",
       "    </tr>\n",
       "    <tr>\n",
       "      <th>3</th>\n",
       "      <td>17</td>\n",
       "      <td>20000</td>\n",
       "      <td>1</td>\n",
       "      <td>1</td>\n",
       "      <td>2</td>\n",
       "      <td>24</td>\n",
       "      <td>0</td>\n",
       "      <td>0</td>\n",
       "      <td>2</td>\n",
       "      <td>2</td>\n",
       "      <td>...</td>\n",
       "      <td>18338</td>\n",
       "      <td>17905</td>\n",
       "      <td>19104</td>\n",
       "      <td>3200</td>\n",
       "      <td>0</td>\n",
       "      <td>1500</td>\n",
       "      <td>0</td>\n",
       "      <td>1650</td>\n",
       "      <td>0</td>\n",
       "      <td>1</td>\n",
       "    </tr>\n",
       "    <tr>\n",
       "      <th>4</th>\n",
       "      <td>22</td>\n",
       "      <td>120000</td>\n",
       "      <td>2</td>\n",
       "      <td>2</td>\n",
       "      <td>1</td>\n",
       "      <td>39</td>\n",
       "      <td>-1</td>\n",
       "      <td>-1</td>\n",
       "      <td>-1</td>\n",
       "      <td>-1</td>\n",
       "      <td>...</td>\n",
       "      <td>0</td>\n",
       "      <td>632</td>\n",
       "      <td>316</td>\n",
       "      <td>316</td>\n",
       "      <td>316</td>\n",
       "      <td>0</td>\n",
       "      <td>632</td>\n",
       "      <td>316</td>\n",
       "      <td>0</td>\n",
       "      <td>1</td>\n",
       "    </tr>\n",
       "  </tbody>\n",
       "</table>\n",
       "<p>5 rows × 25 columns</p>\n",
       "</div>"
      ],
      "text/plain": [
       "   ID  LIMIT_BAL  SEX  EDUCATION  MARRIAGE  AGE  PAY_0  PAY_2  PAY_3  PAY_4  \\\n",
       "0   1      20000    2          2         1   24      2      2     -1     -1   \n",
       "1   2     120000    2          2         2   26     -1      2      0      0   \n",
       "2  14      70000    1          2         2   30      1      2      2      0   \n",
       "3  17      20000    1          1         2   24      0      0      2      2   \n",
       "4  22     120000    2          2         1   39     -1     -1     -1     -1   \n",
       "\n",
       "              ...              BILL_AMT4  BILL_AMT5  BILL_AMT6  PAY_AMT1  \\\n",
       "0             ...                      0          0          0         0   \n",
       "1             ...                   3272       3455       3261         0   \n",
       "2             ...                  66782      36137      36894      3200   \n",
       "3             ...                  18338      17905      19104      3200   \n",
       "4             ...                      0        632        316       316   \n",
       "\n",
       "   PAY_AMT2  PAY_AMT3  PAY_AMT4  PAY_AMT5  PAY_AMT6  \\\n",
       "0       689         0         0         0         0   \n",
       "1      1000      1000      1000         0      2000   \n",
       "2         0      3000      3000      1500         0   \n",
       "3         0      1500         0      1650         0   \n",
       "4       316         0       632       316         0   \n",
       "\n",
       "   default payment next month  \n",
       "0                           1  \n",
       "1                           1  \n",
       "2                           1  \n",
       "3                           1  \n",
       "4                           1  \n",
       "\n",
       "[5 rows x 25 columns]"
      ]
     },
     "execution_count": 3,
     "metadata": {},
     "output_type": "execute_result"
    }
   ],
   "source": [
    "allData_df.head()"
   ]
  },
  {
   "cell_type": "code",
   "execution_count": 4,
   "metadata": {},
   "outputs": [
    {
     "name": "stdout",
     "output_type": "stream",
     "text": [
      "<class 'pandas.core.frame.DataFrame'>\n",
      "RangeIndex: 13272 entries, 0 to 13271\n",
      "Data columns (total 25 columns):\n",
      "ID                            13272 non-null int64\n",
      "LIMIT_BAL                     13272 non-null int64\n",
      "SEX                           13272 non-null int64\n",
      "EDUCATION                     13272 non-null int64\n",
      "MARRIAGE                      13272 non-null int64\n",
      "AGE                           13272 non-null int64\n",
      "PAY_0                         13272 non-null int64\n",
      "PAY_2                         13272 non-null int64\n",
      "PAY_3                         13272 non-null int64\n",
      "PAY_4                         13272 non-null int64\n",
      "PAY_5                         13272 non-null int64\n",
      "PAY_6                         13272 non-null int64\n",
      "BILL_AMT1                     13272 non-null int64\n",
      "BILL_AMT2                     13272 non-null int64\n",
      "BILL_AMT3                     13272 non-null int64\n",
      "BILL_AMT4                     13272 non-null int64\n",
      "BILL_AMT5                     13272 non-null int64\n",
      "BILL_AMT6                     13272 non-null int64\n",
      "PAY_AMT1                      13272 non-null int64\n",
      "PAY_AMT2                      13272 non-null int64\n",
      "PAY_AMT3                      13272 non-null int64\n",
      "PAY_AMT4                      13272 non-null int64\n",
      "PAY_AMT5                      13272 non-null int64\n",
      "PAY_AMT6                      13272 non-null int64\n",
      "default payment next month    13272 non-null int64\n",
      "dtypes: int64(25)\n",
      "memory usage: 2.5 MB\n"
     ]
    }
   ],
   "source": [
    "allData_df.info()"
   ]
  },
  {
   "cell_type": "code",
   "execution_count": 5,
   "metadata": {},
   "outputs": [
    {
     "name": "stdout",
     "output_type": "stream",
     "text": [
      "Index(['ID', 'LIMIT_BAL', 'SEX', 'EDUCATION', 'MARRIAGE', 'AGE', 'PAY_0',\n",
      "       'PAY_2', 'PAY_3', 'PAY_4', 'PAY_5', 'PAY_6', 'BILL_AMT1', 'BILL_AMT2',\n",
      "       'BILL_AMT3', 'BILL_AMT4', 'BILL_AMT5', 'BILL_AMT6', 'PAY_AMT1',\n",
      "       'PAY_AMT2', 'PAY_AMT3', 'PAY_AMT4', 'PAY_AMT5', 'PAY_AMT6',\n",
      "       'default payment next month'],\n",
      "      dtype='object')\n",
      "25\n"
     ]
    }
   ],
   "source": [
    "print(allData_df.columns)\n",
    "print(len(allData_df.columns))"
   ]
  },
  {
   "cell_type": "code",
   "execution_count": 6,
   "metadata": {},
   "outputs": [
    {
     "name": "stdout",
     "output_type": "stream",
     "text": [
      "Removing Un-necessory columns\n"
     ]
    },
    {
     "data": {
      "text/html": [
       "<div>\n",
       "<style scoped>\n",
       "    .dataframe tbody tr th:only-of-type {\n",
       "        vertical-align: middle;\n",
       "    }\n",
       "\n",
       "    .dataframe tbody tr th {\n",
       "        vertical-align: top;\n",
       "    }\n",
       "\n",
       "    .dataframe thead th {\n",
       "        text-align: right;\n",
       "    }\n",
       "</style>\n",
       "<table border=\"1\" class=\"dataframe\">\n",
       "  <thead>\n",
       "    <tr style=\"text-align: right;\">\n",
       "      <th></th>\n",
       "      <th>LIMIT_BAL</th>\n",
       "      <th>SEX</th>\n",
       "      <th>EDUCATION</th>\n",
       "      <th>MARRIAGE</th>\n",
       "      <th>AGE</th>\n",
       "      <th>PAY_0</th>\n",
       "      <th>PAY_2</th>\n",
       "      <th>PAY_3</th>\n",
       "      <th>PAY_4</th>\n",
       "      <th>PAY_5</th>\n",
       "      <th>...</th>\n",
       "      <th>BILL_AMT4</th>\n",
       "      <th>BILL_AMT5</th>\n",
       "      <th>BILL_AMT6</th>\n",
       "      <th>PAY_AMT1</th>\n",
       "      <th>PAY_AMT2</th>\n",
       "      <th>PAY_AMT3</th>\n",
       "      <th>PAY_AMT4</th>\n",
       "      <th>PAY_AMT5</th>\n",
       "      <th>PAY_AMT6</th>\n",
       "      <th>default payment next month</th>\n",
       "    </tr>\n",
       "  </thead>\n",
       "  <tbody>\n",
       "    <tr>\n",
       "      <th>0</th>\n",
       "      <td>20000</td>\n",
       "      <td>2</td>\n",
       "      <td>2</td>\n",
       "      <td>1</td>\n",
       "      <td>24</td>\n",
       "      <td>2</td>\n",
       "      <td>2</td>\n",
       "      <td>-1</td>\n",
       "      <td>-1</td>\n",
       "      <td>-2</td>\n",
       "      <td>...</td>\n",
       "      <td>0</td>\n",
       "      <td>0</td>\n",
       "      <td>0</td>\n",
       "      <td>0</td>\n",
       "      <td>689</td>\n",
       "      <td>0</td>\n",
       "      <td>0</td>\n",
       "      <td>0</td>\n",
       "      <td>0</td>\n",
       "      <td>1</td>\n",
       "    </tr>\n",
       "    <tr>\n",
       "      <th>1</th>\n",
       "      <td>120000</td>\n",
       "      <td>2</td>\n",
       "      <td>2</td>\n",
       "      <td>2</td>\n",
       "      <td>26</td>\n",
       "      <td>-1</td>\n",
       "      <td>2</td>\n",
       "      <td>0</td>\n",
       "      <td>0</td>\n",
       "      <td>0</td>\n",
       "      <td>...</td>\n",
       "      <td>3272</td>\n",
       "      <td>3455</td>\n",
       "      <td>3261</td>\n",
       "      <td>0</td>\n",
       "      <td>1000</td>\n",
       "      <td>1000</td>\n",
       "      <td>1000</td>\n",
       "      <td>0</td>\n",
       "      <td>2000</td>\n",
       "      <td>1</td>\n",
       "    </tr>\n",
       "    <tr>\n",
       "      <th>2</th>\n",
       "      <td>70000</td>\n",
       "      <td>1</td>\n",
       "      <td>2</td>\n",
       "      <td>2</td>\n",
       "      <td>30</td>\n",
       "      <td>1</td>\n",
       "      <td>2</td>\n",
       "      <td>2</td>\n",
       "      <td>0</td>\n",
       "      <td>0</td>\n",
       "      <td>...</td>\n",
       "      <td>66782</td>\n",
       "      <td>36137</td>\n",
       "      <td>36894</td>\n",
       "      <td>3200</td>\n",
       "      <td>0</td>\n",
       "      <td>3000</td>\n",
       "      <td>3000</td>\n",
       "      <td>1500</td>\n",
       "      <td>0</td>\n",
       "      <td>1</td>\n",
       "    </tr>\n",
       "    <tr>\n",
       "      <th>3</th>\n",
       "      <td>20000</td>\n",
       "      <td>1</td>\n",
       "      <td>1</td>\n",
       "      <td>2</td>\n",
       "      <td>24</td>\n",
       "      <td>0</td>\n",
       "      <td>0</td>\n",
       "      <td>2</td>\n",
       "      <td>2</td>\n",
       "      <td>2</td>\n",
       "      <td>...</td>\n",
       "      <td>18338</td>\n",
       "      <td>17905</td>\n",
       "      <td>19104</td>\n",
       "      <td>3200</td>\n",
       "      <td>0</td>\n",
       "      <td>1500</td>\n",
       "      <td>0</td>\n",
       "      <td>1650</td>\n",
       "      <td>0</td>\n",
       "      <td>1</td>\n",
       "    </tr>\n",
       "    <tr>\n",
       "      <th>4</th>\n",
       "      <td>120000</td>\n",
       "      <td>2</td>\n",
       "      <td>2</td>\n",
       "      <td>1</td>\n",
       "      <td>39</td>\n",
       "      <td>-1</td>\n",
       "      <td>-1</td>\n",
       "      <td>-1</td>\n",
       "      <td>-1</td>\n",
       "      <td>-1</td>\n",
       "      <td>...</td>\n",
       "      <td>0</td>\n",
       "      <td>632</td>\n",
       "      <td>316</td>\n",
       "      <td>316</td>\n",
       "      <td>316</td>\n",
       "      <td>0</td>\n",
       "      <td>632</td>\n",
       "      <td>316</td>\n",
       "      <td>0</td>\n",
       "      <td>1</td>\n",
       "    </tr>\n",
       "  </tbody>\n",
       "</table>\n",
       "<p>5 rows × 24 columns</p>\n",
       "</div>"
      ],
      "text/plain": [
       "   LIMIT_BAL  SEX  EDUCATION  MARRIAGE  AGE  PAY_0  PAY_2  PAY_3  PAY_4  \\\n",
       "0      20000    2          2         1   24      2      2     -1     -1   \n",
       "1     120000    2          2         2   26     -1      2      0      0   \n",
       "2      70000    1          2         2   30      1      2      2      0   \n",
       "3      20000    1          1         2   24      0      0      2      2   \n",
       "4     120000    2          2         1   39     -1     -1     -1     -1   \n",
       "\n",
       "   PAY_5             ...              BILL_AMT4  BILL_AMT5  BILL_AMT6  \\\n",
       "0     -2             ...                      0          0          0   \n",
       "1      0             ...                   3272       3455       3261   \n",
       "2      0             ...                  66782      36137      36894   \n",
       "3      2             ...                  18338      17905      19104   \n",
       "4     -1             ...                      0        632        316   \n",
       "\n",
       "   PAY_AMT1  PAY_AMT2  PAY_AMT3  PAY_AMT4  PAY_AMT5  PAY_AMT6  \\\n",
       "0         0       689         0         0         0         0   \n",
       "1         0      1000      1000      1000         0      2000   \n",
       "2      3200         0      3000      3000      1500         0   \n",
       "3      3200         0      1500         0      1650         0   \n",
       "4       316       316         0       632       316         0   \n",
       "\n",
       "   default payment next month  \n",
       "0                           1  \n",
       "1                           1  \n",
       "2                           1  \n",
       "3                           1  \n",
       "4                           1  \n",
       "\n",
       "[5 rows x 24 columns]"
      ]
     },
     "execution_count": 6,
     "metadata": {},
     "output_type": "execute_result"
    }
   ],
   "source": [
    "data_df = allData_df.copy()\n",
    "print(\"Removing Un-necessory columns\")\n",
    "data_df = data_df.drop(\"ID\" , axis=1)\n",
    "data_df.head()\n",
    "# data_df = data_df.drop(\"country_abrv\" , axis=1)\n",
    "# data_df = data_df.drop(\"rank_date\" , axis=1)"
   ]
  },
  {
   "cell_type": "code",
   "execution_count": 7,
   "metadata": {},
   "outputs": [
    {
     "name": "stdout",
     "output_type": "stream",
     "text": [
      "Index(['LIMIT_BAL', 'SEX', 'EDUCATION', 'MARRIAGE', 'AGE', 'PAY_0', 'PAY_2',\n",
      "       'PAY_3', 'PAY_4', 'PAY_5', 'PAY_6', 'BILL_AMT1', 'BILL_AMT2',\n",
      "       'BILL_AMT3', 'BILL_AMT4', 'BILL_AMT5', 'BILL_AMT6', 'PAY_AMT1',\n",
      "       'PAY_AMT2', 'PAY_AMT3', 'PAY_AMT4', 'PAY_AMT5', 'PAY_AMT6',\n",
      "       'default payment next month'],\n",
      "      dtype='object')\n",
      "24\n"
     ]
    }
   ],
   "source": [
    "print(data_df.columns)\n",
    "print(len(data_df.columns))"
   ]
  },
  {
   "cell_type": "code",
   "execution_count": 8,
   "metadata": {},
   "outputs": [
    {
     "data": {
      "text/plain": [
       "array([1, 0], dtype=int64)"
      ]
     },
     "execution_count": 8,
     "metadata": {},
     "output_type": "execute_result"
    }
   ],
   "source": [
    "data_df['default payment next month'].unique()"
   ]
  },
  {
   "cell_type": "code",
   "execution_count": 9,
   "metadata": {},
   "outputs": [
    {
     "data": {
      "text/plain": [
       "default payment next month\n",
       "0    6636\n",
       "1    6636\n",
       "dtype: int64"
      ]
     },
     "execution_count": 9,
     "metadata": {},
     "output_type": "execute_result"
    }
   ],
   "source": [
    "data_df.groupby('default payment next month').size()"
   ]
  },
  {
   "cell_type": "code",
   "execution_count": 25,
   "metadata": {},
   "outputs": [
    {
     "data": {
      "image/png": "[encoded data removed]",
      "text/plain": [
       "<Figure size 432x288 with 1 Axes>"
      ]
     },
     "metadata": {
      "needs_background": "light"
     },
     "output_type": "display_data"
    }
   ],
   "source": [
    "plt.bar(['0'],\n",
    "        len(data_df[data_df['default payment next month']==0]),\n",
    "        label=\"Not default payment next month\")\n",
    "plt.bar(['1'],\n",
    "        len(data_df[data_df['default payment next month']==1]),\n",
    "        label=\"Default payment next month\")\n",
    "\n",
    "plt.xlabel('Ranks')\n",
    "plt.ylabel('Number of occurance')\n",
    "\n",
    "plt.title(\"Balance of class\")\n",
    "plt.legend()\n",
    "plt.show()"
   ]
  },
  {
   "cell_type": "markdown",
   "metadata": {},
   "source": [
    "# Splitting"
   ]
  },
  {
   "cell_type": "code",
   "execution_count": 26,
   "metadata": {},
   "outputs": [
    {
     "data": {
      "text/plain": [
       "(13272, 24)"
      ]
     },
     "execution_count": 26,
     "metadata": {},
     "output_type": "execute_result"
    }
   ],
   "source": [
    "data_df.shape"
   ]
  },
  {
   "cell_type": "code",
   "execution_count": 29,
   "metadata": {},
   "outputs": [],
   "source": [
    "X_train, X_test,y_train, y_test = train_test_split(\n",
    "data_df.drop('default payment next month', axis=1),\n",
    "    data_df['default payment next month'],test_size=0.3, random_state=0)"
   ]
  },
  {
   "cell_type": "code",
   "execution_count": 30,
   "metadata": {},
   "outputs": [
    {
     "data": {
      "text/plain": [
       "(9290, 23)"
      ]
     },
     "execution_count": 30,
     "metadata": {},
     "output_type": "execute_result"
    }
   ],
   "source": [
    "X_train.shape"
   ]
  },
  {
   "cell_type": "code",
   "execution_count": 32,
   "metadata": {},
   "outputs": [
    {
     "data": {
      "text/plain": [
       "(3982, 23)"
      ]
     },
     "execution_count": 32,
     "metadata": {},
     "output_type": "execute_result"
    }
   ],
   "source": [
    "X_test.shape"
   ]
  },
  {
   "cell_type": "code",
   "execution_count": 12,
   "metadata": {},
   "outputs": [],
   "source": [
    "def evaluation(model_name,y_original,y_prediction):\n",
    "\n",
    "    print('Accuracy score :')\n",
    "    AC = accuracy_score(y_original,y_prediction,normalize=True)\n",
    "    print(AC)\n",
    "    binary_PRF = precision_recall_fscore_support(y_original,y_prediction, average='binary')\n",
    "    print( binary_PRF)\n",
    "    macro_PRF = precision_recall_fscore_support(y_original,y_prediction, average='macro')\n",
    "    print( macro_PRF)\n",
    "    micro_PRF = precision_recall_fscore_support(y_original,y_prediction, average='micro')\n",
    "    print(micro_PRF)\n",
    "    weighted_PRF = precision_recall_fscore_support(y_original,y_prediction, average='weighted')\n",
    "    print(weighted_PRF)\n",
    "    \n",
    "    \n",
    "    return {'Model Name':model_name,\n",
    "            \"Accuracy\":round(AC,2),\n",
    "            \"Precision\":round(binary_PRF[0],2),\n",
    "            \"Recall\":round(binary_PRF[1],2),\n",
    "            \"F1 Measure\":round(binary_PRF[2],2)}"
   ]
  },
  {
   "cell_type": "markdown",
   "metadata": {},
   "source": [
    "# Traing Model"
   ]
  },
  {
   "cell_type": "code",
   "execution_count": 73,
   "metadata": {},
   "outputs": [],
   "source": [
    "listOfModelEvaluations = []"
   ]
  },
  {
   "cell_type": "markdown",
   "metadata": {},
   "source": [
    "## Logistic Regression"
   ]
  },
  {
   "cell_type": "code",
   "execution_count": 33,
   "metadata": {},
   "outputs": [
    {
     "data": {
      "text/plain": [
       "LogisticRegression(C=1.0, class_weight=None, dual=False, fit_intercept=True,\n",
       "          intercept_scaling=1, max_iter=100, multi_class='warn',\n",
       "          n_jobs=None, penalty='l2', random_state=None, solver='warn',\n",
       "          tol=0.0001, verbose=0, warm_start=False)"
      ]
     },
     "execution_count": 33,
     "metadata": {},
     "output_type": "execute_result"
    }
   ],
   "source": [
    "logisticRegression = LogisticRegression()\n",
    "logisticRegression "
   ]
  },
  {
   "cell_type": "code",
   "execution_count": 34,
   "metadata": {},
   "outputs": [
    {
     "name": "stdout",
     "output_type": "stream",
     "text": [
      "Model is trained\n"
     ]
    },
    {
     "name": "stderr",
     "output_type": "stream",
     "text": [
      "c:\\users\\dell\\appdata\\local\\programs\\python\\python37\\lib\\site-packages\\sklearn\\linear_model\\logistic.py:433: FutureWarning: Default solver will be changed to 'lbfgs' in 0.22. Specify a solver to silence this warning.\n",
      "  FutureWarning)\n"
     ]
    }
   ],
   "source": [
    "logisticRegression.fit(X_train,y_train)\n",
    "print('Model is trained')"
   ]
  },
  {
   "cell_type": "code",
   "execution_count": 35,
   "metadata": {},
   "outputs": [
    {
     "name": "stdout",
     "output_type": "stream",
     "text": [
      "Score\n",
      "0.610010764262648\n"
     ]
    }
   ],
   "source": [
    "print(\"Score\")\n",
    "print(logisticRegression.score(X_train,y_train))"
   ]
  },
  {
   "cell_type": "code",
   "execution_count": 36,
   "metadata": {},
   "outputs": [
    {
     "data": {
      "text/plain": [
       "array([1, 1, 1, ..., 0, 1, 0], dtype=int64)"
      ]
     },
     "execution_count": 36,
     "metadata": {},
     "output_type": "execute_result"
    }
   ],
   "source": [
    "logReg_Predictions = logisticRegression.predict(X_test)\n",
    "logReg_Predictions"
   ]
  },
  {
   "cell_type": "code",
   "execution_count": 74,
   "metadata": {},
   "outputs": [
    {
     "name": "stdout",
     "output_type": "stream",
     "text": [
      "Accuracy score :\n",
      "0.6029633350075339\n",
      "(0.5713708046906592, 0.7306101344364012, 0.6412525527569775, None)\n",
      "(0.6130545209669334, 0.6065160047182006, 0.5983884355013451, None)\n",
      "(0.6029633350075339, 0.6029633350075339, 0.6029633350075339, None)\n",
      "(0.6142478769828789, 0.6029633350075339, 0.5971612859867438, None)\n",
      "{'Model Name': 'Logistic Regression', 'Accuracy': 0.6, 'Precision': 0.57, 'Recall': 0.73, 'F1 Measure': 0.64}\n"
     ]
    }
   ],
   "source": [
    "evaluations = evaluation('Logistic Regression',y_test,logReg_Predictions)\n",
    "print(evaluations)\n",
    "listOfModelEvaluations.append(evaluations)"
   ]
  },
  {
   "cell_type": "markdown",
   "metadata": {},
   "source": [
    "# LinearSVC"
   ]
  },
  {
   "cell_type": "code",
   "execution_count": 49,
   "metadata": {},
   "outputs": [
    {
     "data": {
      "text/plain": [
       "LinearSVC(C=1.0, class_weight=None, dual=True, fit_intercept=True,\n",
       "     intercept_scaling=1, loss='squared_hinge', max_iter=1000,\n",
       "     multi_class='ovr', penalty='l2', random_state=None, tol=0.0001,\n",
       "     verbose=0)"
      ]
     },
     "execution_count": 49,
     "metadata": {},
     "output_type": "execute_result"
    }
   ],
   "source": [
    "linearsvc = LinearSVC()\n",
    "linearsvc"
   ]
  },
  {
   "cell_type": "code",
   "execution_count": 50,
   "metadata": {},
   "outputs": [
    {
     "name": "stdout",
     "output_type": "stream",
     "text": [
      "Model is trained\n"
     ]
    },
    {
     "name": "stderr",
     "output_type": "stream",
     "text": [
      "c:\\users\\dell\\appdata\\local\\programs\\python\\python37\\lib\\site-packages\\sklearn\\svm\\base.py:922: ConvergenceWarning: Liblinear failed to converge, increase the number of iterations.\n",
      "  \"the number of iterations.\", ConvergenceWarning)\n"
     ]
    }
   ],
   "source": [
    "linearsvc.fit(X_train,y_train)\n",
    "print('Model is trained')"
   ]
  },
  {
   "cell_type": "code",
   "execution_count": 52,
   "metadata": {},
   "outputs": [
    {
     "name": "stdout",
     "output_type": "stream",
     "text": [
      "Score\n",
      "0.5311087190527449\n"
     ]
    }
   ],
   "source": [
    "print(\"Score\")\n",
    "print(linearsvc.score(X_train,y_train))"
   ]
  },
  {
   "cell_type": "code",
   "execution_count": 53,
   "metadata": {},
   "outputs": [
    {
     "data": {
      "text/plain": [
       "array([1, 1, 1, ..., 1, 1, 1], dtype=int64)"
      ]
     },
     "execution_count": 53,
     "metadata": {},
     "output_type": "execute_result"
    }
   ],
   "source": [
    "linearsvc_Predictions = linearsvc.predict(X_test)\n",
    "linearsvc_Predictions"
   ]
  },
  {
   "cell_type": "code",
   "execution_count": 75,
   "metadata": {},
   "outputs": [
    {
     "name": "stdout",
     "output_type": "stream",
     "text": [
      "Accuracy score :\n",
      "0.5178302360622803\n",
      "(0.5018888289260658, 0.9617373319544984, 0.6595744680851063, None)\n",
      "(0.6168864434485402, 0.5301850722272492, 0.4167063390339473, None)\n",
      "(0.5178302360622803, 0.5178302360622803, 0.5178302360622803, None)\n",
      "(0.6201786905744975, 0.5178302360622803, 0.4097533087195746, None)\n",
      "{'Model Name': 'LinearSVC', 'Accuracy': 0.52, 'Precision': 0.5, 'Recall': 0.96, 'F1 Measure': 0.66}\n"
     ]
    }
   ],
   "source": [
    "evaluations = evaluation('LinearSVC',y_test,linearsvc_Predictions)\n",
    "print(evaluations)\n",
    "listOfModelEvaluations.append(evaluations)"
   ]
  },
  {
   "cell_type": "markdown",
   "metadata": {},
   "source": [
    "# Random Forest Classifier"
   ]
  },
  {
   "cell_type": "code",
   "execution_count": 55,
   "metadata": {},
   "outputs": [
    {
     "data": {
      "text/plain": [
       "RandomForestClassifier(bootstrap=True, class_weight=None, criterion='gini',\n",
       "            max_depth=None, max_features='auto', max_leaf_nodes=None,\n",
       "            min_impurity_decrease=0.0, min_impurity_split=None,\n",
       "            min_samples_leaf=1, min_samples_split=2,\n",
       "            min_weight_fraction_leaf=0.0, n_estimators='warn', n_jobs=None,\n",
       "            oob_score=False, random_state=None, verbose=0,\n",
       "            warm_start=False)"
      ]
     },
     "execution_count": 55,
     "metadata": {},
     "output_type": "execute_result"
    }
   ],
   "source": [
    "random_forest = RandomForestClassifier()\n",
    "random_forest"
   ]
  },
  {
   "cell_type": "code",
   "execution_count": 56,
   "metadata": {},
   "outputs": [
    {
     "name": "stdout",
     "output_type": "stream",
     "text": [
      "Model is trained\n"
     ]
    },
    {
     "name": "stderr",
     "output_type": "stream",
     "text": [
      "c:\\users\\dell\\appdata\\local\\programs\\python\\python37\\lib\\site-packages\\sklearn\\ensemble\\forest.py:246: FutureWarning: The default value of n_estimators will change from 10 in version 0.20 to 100 in 0.22.\n",
      "  \"10 in version 0.20 to 100 in 0.22.\", FutureWarning)\n"
     ]
    }
   ],
   "source": [
    "random_forest.fit(X_train,y_train)\n",
    "print('Model is trained')"
   ]
  },
  {
   "cell_type": "code",
   "execution_count": 57,
   "metadata": {},
   "outputs": [
    {
     "name": "stdout",
     "output_type": "stream",
     "text": [
      "Score\n",
      "0.9826695371367061\n"
     ]
    }
   ],
   "source": [
    "print(\"Score\")\n",
    "print(random_forest.score(X_train,y_train))"
   ]
  },
  {
   "cell_type": "code",
   "execution_count": 58,
   "metadata": {},
   "outputs": [
    {
     "data": {
      "text/plain": [
       "array([1, 0, 0, ..., 1, 1, 1], dtype=int64)"
      ]
     },
     "execution_count": 58,
     "metadata": {},
     "output_type": "execute_result"
    }
   ],
   "source": [
    "random_forest_Predictions = random_forest.predict(X_test)\n",
    "random_forest_Predictions"
   ]
  },
  {
   "cell_type": "code",
   "execution_count": 76,
   "metadata": {},
   "outputs": [
    {
     "name": "stdout",
     "output_type": "stream",
     "text": [
      "Accuracy score :\n",
      "0.6810647915620291\n",
      "(0.6983273596176822, 0.6044467425025853, 0.6480044345898004, None)\n",
      "(0.6834357768625673, 0.6789323556262927, 0.6782262760644135, None)\n",
      "(0.6810647915620291, 0.6810647915620291, 0.6810647915620291, None)\n",
      "(0.6830094482754042, 0.6810647915620291, 0.6790914920182322, None)\n",
      "{'Model Name': 'Random Forest Classifier', 'Accuracy': 0.68, 'Precision': 0.7, 'Recall': 0.6, 'F1 Measure': 0.65}\n"
     ]
    }
   ],
   "source": [
    "evaluations = evaluation('Random Forest Classifier',y_test,random_forest_Predictions)\n",
    "print(evaluations)\n",
    "listOfModelEvaluations.append(evaluations)"
   ]
  },
  {
   "cell_type": "markdown",
   "metadata": {},
   "source": [
    "# Comparison of All Models"
   ]
  },
  {
   "cell_type": "code",
   "execution_count": 78,
   "metadata": {},
   "outputs": [],
   "source": [
    "evaluation_df = pd.DataFrame(\n",
    "    listOfModelEvaluations ,\n",
    "    columns=['Model Name','Accuracy','Precision','Recall','F1 Measure'])"
   ]
  },
  {
   "cell_type": "code",
   "execution_count": 79,
   "metadata": {},
   "outputs": [
    {
     "data": {
      "text/html": [
       "<div>\n",
       "<style scoped>\n",
       "    .dataframe tbody tr th:only-of-type {\n",
       "        vertical-align: middle;\n",
       "    }\n",
       "\n",
       "    .dataframe tbody tr th {\n",
       "        vertical-align: top;\n",
       "    }\n",
       "\n",
       "    .dataframe thead th {\n",
       "        text-align: right;\n",
       "    }\n",
       "</style>\n",
       "<table border=\"1\" class=\"dataframe\">\n",
       "  <thead>\n",
       "    <tr style=\"text-align: right;\">\n",
       "      <th></th>\n",
       "      <th>Model Name</th>\n",
       "      <th>Accuracy</th>\n",
       "      <th>Precision</th>\n",
       "      <th>Recall</th>\n",
       "      <th>F1 Measure</th>\n",
       "    </tr>\n",
       "  </thead>\n",
       "  <tbody>\n",
       "    <tr>\n",
       "      <th>0</th>\n",
       "      <td>Logistic Regression</td>\n",
       "      <td>0.60</td>\n",
       "      <td>0.57</td>\n",
       "      <td>0.73</td>\n",
       "      <td>0.64</td>\n",
       "    </tr>\n",
       "    <tr>\n",
       "      <th>1</th>\n",
       "      <td>LinearSVC</td>\n",
       "      <td>0.52</td>\n",
       "      <td>0.50</td>\n",
       "      <td>0.96</td>\n",
       "      <td>0.66</td>\n",
       "    </tr>\n",
       "    <tr>\n",
       "      <th>2</th>\n",
       "      <td>Random Forest Classifier</td>\n",
       "      <td>0.68</td>\n",
       "      <td>0.70</td>\n",
       "      <td>0.60</td>\n",
       "      <td>0.65</td>\n",
       "    </tr>\n",
       "  </tbody>\n",
       "</table>\n",
       "</div>"
      ],
      "text/plain": [
       "                 Model Name  Accuracy  Precision  Recall  F1 Measure\n",
       "0       Logistic Regression      0.60       0.57    0.73        0.64\n",
       "1                 LinearSVC      0.52       0.50    0.96        0.66\n",
       "2  Random Forest Classifier      0.68       0.70    0.60        0.65"
      ]
     },
     "execution_count": 79,
     "metadata": {},
     "output_type": "execute_result"
    }
   ],
   "source": [
    "evaluation_df"
   ]
  },
  {
   "cell_type": "markdown",
   "metadata": {},
   "source": [
    "# Best Model"
   ]
  },
  {
   "cell_type": "markdown",
   "metadata": {},
   "source": [
    "## Random Forest Classifier"
   ]
  },
  {
   "cell_type": "markdown",
   "metadata": {},
   "source": [
    "# K-Fold"
   ]
  },
  {
   "cell_type": "code",
   "execution_count": 98,
   "metadata": {},
   "outputs": [],
   "source": [
    "kfold_log_Eval = []\n",
    "kfold_lin_Eval = []\n",
    "kfold_random_Eval = []"
   ]
  },
  {
   "cell_type": "code",
   "execution_count": 99,
   "metadata": {},
   "outputs": [
    {
     "name": "stdout",
     "output_type": "stream",
     "text": [
      "[ 1328  1329  1330 ... 13269 13270 13271] [   0    1    2 ... 1325 1326 1327]\n"
     ]
    },
    {
     "name": "stderr",
     "output_type": "stream",
     "text": [
      "c:\\users\\dell\\appdata\\local\\programs\\python\\python37\\lib\\site-packages\\sklearn\\linear_model\\logistic.py:433: FutureWarning: Default solver will be changed to 'lbfgs' in 0.22. Specify a solver to silence this warning.\n",
      "  FutureWarning)\n"
     ]
    },
    {
     "name": "stdout",
     "output_type": "stream",
     "text": [
      "Accuracy score :\n",
      "0.5075301204819277\n",
      "(1.0, 0.5075301204819277, 0.6733266733266734, None)\n",
      "(0.5, 0.25376506024096385, 0.3366633366633367, None)\n",
      "(0.5075301204819277, 0.5075301204819277, 0.5075301204819277, None)\n",
      "(1.0, 0.5075301204819277, 0.6733266733266734, None)\n"
     ]
    },
    {
     "name": "stderr",
     "output_type": "stream",
     "text": [
      "c:\\users\\dell\\appdata\\local\\programs\\python\\python37\\lib\\site-packages\\sklearn\\metrics\\classification.py:1145: UndefinedMetricWarning: Recall and F-score are ill-defined and being set to 0.0 in labels with no true samples.\n",
      "  'recall', 'true', average, warn_for)\n",
      "c:\\users\\dell\\appdata\\local\\programs\\python\\python37\\lib\\site-packages\\sklearn\\svm\\base.py:922: ConvergenceWarning: Liblinear failed to converge, increase the number of iterations.\n",
      "  \"the number of iterations.\", ConvergenceWarning)\n",
      "c:\\users\\dell\\appdata\\local\\programs\\python\\python37\\lib\\site-packages\\sklearn\\metrics\\classification.py:1145: UndefinedMetricWarning: Recall and F-score are ill-defined and being set to 0.0 in labels with no true samples.\n",
      "  'recall', 'true', average, warn_for)\n",
      "c:\\users\\dell\\appdata\\local\\programs\\python\\python37\\lib\\site-packages\\sklearn\\ensemble\\forest.py:246: FutureWarning: The default value of n_estimators will change from 10 in version 0.20 to 100 in 0.22.\n",
      "  \"10 in version 0.20 to 100 in 0.22.\", FutureWarning)\n"
     ]
    },
    {
     "name": "stdout",
     "output_type": "stream",
     "text": [
      "Accuracy score :\n",
      "0.011295180722891566\n",
      "(1.0, 0.011295180722891566, 0.022338049143708117, None)\n",
      "(0.5, 0.005647590361445783, 0.011169024571854059, None)\n",
      "(0.011295180722891566, 0.011295180722891566, 0.011295180722891568, None)\n",
      "(1.0, 0.011295180722891566, 0.022338049143708117, None)\n",
      "Accuracy score :\n",
      "0.4947289156626506\n",
      "(1.0, 0.4947289156626506, 0.6619647355163728, None)\n",
      "(0.5, 0.2473644578313253, 0.3309823677581864, None)\n",
      "(0.4947289156626506, 0.4947289156626506, 0.4947289156626506, None)\n",
      "(1.0, 0.4947289156626506, 0.6619647355163728, None)\n",
      "[    0     1     2 ... 13269 13270 13271] [1328 1329 1330 ... 2653 2654 2655]\n"
     ]
    },
    {
     "name": "stderr",
     "output_type": "stream",
     "text": [
      "c:\\users\\dell\\appdata\\local\\programs\\python\\python37\\lib\\site-packages\\sklearn\\metrics\\classification.py:1145: UndefinedMetricWarning: Recall and F-score are ill-defined and being set to 0.0 in labels with no true samples.\n",
      "  'recall', 'true', average, warn_for)\n",
      "c:\\users\\dell\\appdata\\local\\programs\\python\\python37\\lib\\site-packages\\sklearn\\linear_model\\logistic.py:433: FutureWarning: Default solver will be changed to 'lbfgs' in 0.22. Specify a solver to silence this warning.\n",
      "  FutureWarning)\n"
     ]
    },
    {
     "name": "stdout",
     "output_type": "stream",
     "text": [
      "Accuracy score :\n",
      "0.5075301204819277\n",
      "(1.0, 0.5075301204819277, 0.6733266733266734, None)\n",
      "(0.5, 0.25376506024096385, 0.3366633366633367, None)\n",
      "(0.5075301204819277, 0.5075301204819277, 0.5075301204819277, None)\n",
      "(1.0, 0.5075301204819277, 0.6733266733266734, None)\n"
     ]
    },
    {
     "name": "stderr",
     "output_type": "stream",
     "text": [
      "c:\\users\\dell\\appdata\\local\\programs\\python\\python37\\lib\\site-packages\\sklearn\\metrics\\classification.py:1145: UndefinedMetricWarning: Recall and F-score are ill-defined and being set to 0.0 in labels with no true samples.\n",
      "  'recall', 'true', average, warn_for)\n",
      "c:\\users\\dell\\appdata\\local\\programs\\python\\python37\\lib\\site-packages\\sklearn\\svm\\base.py:922: ConvergenceWarning: Liblinear failed to converge, increase the number of iterations.\n",
      "  \"the number of iterations.\", ConvergenceWarning)\n",
      "c:\\users\\dell\\appdata\\local\\programs\\python\\python37\\lib\\site-packages\\sklearn\\metrics\\classification.py:1145: UndefinedMetricWarning: Recall and F-score are ill-defined and being set to 0.0 in labels with no true samples.\n",
      "  'recall', 'true', average, warn_for)\n",
      "c:\\users\\dell\\appdata\\local\\programs\\python\\python37\\lib\\site-packages\\sklearn\\ensemble\\forest.py:246: FutureWarning: The default value of n_estimators will change from 10 in version 0.20 to 100 in 0.22.\n",
      "  \"10 in version 0.20 to 100 in 0.22.\", FutureWarning)\n"
     ]
    },
    {
     "name": "stdout",
     "output_type": "stream",
     "text": [
      "Accuracy score :\n",
      "0.9879518072289156\n",
      "(1.0, 0.9879518072289156, 0.993939393939394, None)\n",
      "(0.5, 0.4939759036144578, 0.496969696969697, None)\n",
      "(0.9879518072289156, 0.9879518072289156, 0.9879518072289156, None)\n",
      "(1.0, 0.9879518072289156, 0.993939393939394, None)\n",
      "Accuracy score :\n",
      "0.5180722891566265\n",
      "(1.0, 0.5180722891566265, 0.6825396825396826, None)\n",
      "(0.5, 0.25903614457831325, 0.3412698412698413, None)\n",
      "(0.5180722891566265, 0.5180722891566265, 0.5180722891566265, None)\n",
      "(1.0, 0.5180722891566265, 0.6825396825396826, None)\n",
      "[    0     1     2 ... 13269 13270 13271] [2656 2657 2658 ... 3980 3981 3982]\n"
     ]
    },
    {
     "name": "stderr",
     "output_type": "stream",
     "text": [
      "c:\\users\\dell\\appdata\\local\\programs\\python\\python37\\lib\\site-packages\\sklearn\\metrics\\classification.py:1145: UndefinedMetricWarning: Recall and F-score are ill-defined and being set to 0.0 in labels with no true samples.\n",
      "  'recall', 'true', average, warn_for)\n",
      "c:\\users\\dell\\appdata\\local\\programs\\python\\python37\\lib\\site-packages\\sklearn\\linear_model\\logistic.py:433: FutureWarning: Default solver will be changed to 'lbfgs' in 0.22. Specify a solver to silence this warning.\n",
      "  FutureWarning)\n"
     ]
    },
    {
     "name": "stdout",
     "output_type": "stream",
     "text": [
      "Accuracy score :\n",
      "0.5749811605124341\n",
      "(1.0, 0.5749811605124341, 0.7301435406698564, None)\n",
      "(0.5, 0.28749058025621704, 0.3650717703349282, None)\n",
      "(0.5749811605124341, 0.5749811605124341, 0.5749811605124341, None)\n",
      "(1.0, 0.5749811605124341, 0.7301435406698564, None)\n"
     ]
    },
    {
     "name": "stderr",
     "output_type": "stream",
     "text": [
      "c:\\users\\dell\\appdata\\local\\programs\\python\\python37\\lib\\site-packages\\sklearn\\metrics\\classification.py:1145: UndefinedMetricWarning: Recall and F-score are ill-defined and being set to 0.0 in labels with no true samples.\n",
      "  'recall', 'true', average, warn_for)\n",
      "c:\\users\\dell\\appdata\\local\\programs\\python\\python37\\lib\\site-packages\\sklearn\\svm\\base.py:922: ConvergenceWarning: Liblinear failed to converge, increase the number of iterations.\n",
      "  \"the number of iterations.\", ConvergenceWarning)\n",
      "c:\\users\\dell\\appdata\\local\\programs\\python\\python37\\lib\\site-packages\\sklearn\\metrics\\classification.py:1145: UndefinedMetricWarning: Recall and F-score are ill-defined and being set to 0.0 in labels with no true samples.\n",
      "  'recall', 'true', average, warn_for)\n",
      "c:\\users\\dell\\appdata\\local\\programs\\python\\python37\\lib\\site-packages\\sklearn\\ensemble\\forest.py:246: FutureWarning: The default value of n_estimators will change from 10 in version 0.20 to 100 in 0.22.\n",
      "  \"10 in version 0.20 to 100 in 0.22.\", FutureWarning)\n"
     ]
    },
    {
     "name": "stdout",
     "output_type": "stream",
     "text": [
      "Accuracy score :\n",
      "0.46495855312735496\n",
      "(1.0, 0.46495855312735496, 0.6347736625514403, None)\n",
      "(0.5, 0.23247927656367748, 0.31738683127572015, None)\n",
      "(0.46495855312735496, 0.46495855312735496, 0.46495855312735496, None)\n",
      "(1.0, 0.46495855312735496, 0.6347736625514403, None)\n",
      "Accuracy score :\n",
      "0.5908063300678221\n",
      "(1.0, 0.5908063300678221, 0.7427759355755565, None)\n",
      "(0.5, 0.29540316503391106, 0.3713879677877783, None)\n",
      "(0.5908063300678221, 0.5908063300678221, 0.5908063300678221, None)\n",
      "(1.0, 0.5908063300678221, 0.7427759355755565, None)\n",
      "[    0     1     2 ... 13269 13270 13271] [3983 3984 3985 ... 5307 5308 5309]\n"
     ]
    },
    {
     "name": "stderr",
     "output_type": "stream",
     "text": [
      "c:\\users\\dell\\appdata\\local\\programs\\python\\python37\\lib\\site-packages\\sklearn\\metrics\\classification.py:1145: UndefinedMetricWarning: Recall and F-score are ill-defined and being set to 0.0 in labels with no true samples.\n",
      "  'recall', 'true', average, warn_for)\n",
      "c:\\users\\dell\\appdata\\local\\programs\\python\\python37\\lib\\site-packages\\sklearn\\linear_model\\logistic.py:433: FutureWarning: Default solver will be changed to 'lbfgs' in 0.22. Specify a solver to silence this warning.\n",
      "  FutureWarning)\n"
     ]
    },
    {
     "name": "stdout",
     "output_type": "stream",
     "text": [
      "Accuracy score :\n",
      "0.60060286360211\n",
      "(1.0, 0.60060286360211, 0.7504708097928436, None)\n",
      "(0.5, 0.300301431801055, 0.3752354048964218, None)\n",
      "(0.60060286360211, 0.60060286360211, 0.60060286360211, None)\n",
      "(1.0, 0.60060286360211, 0.7504708097928436, None)\n"
     ]
    },
    {
     "name": "stderr",
     "output_type": "stream",
     "text": [
      "c:\\users\\dell\\appdata\\local\\programs\\python\\python37\\lib\\site-packages\\sklearn\\metrics\\classification.py:1145: UndefinedMetricWarning: Recall and F-score are ill-defined and being set to 0.0 in labels with no true samples.\n",
      "  'recall', 'true', average, warn_for)\n",
      "c:\\users\\dell\\appdata\\local\\programs\\python\\python37\\lib\\site-packages\\sklearn\\svm\\base.py:922: ConvergenceWarning: Liblinear failed to converge, increase the number of iterations.\n",
      "  \"the number of iterations.\", ConvergenceWarning)\n",
      "c:\\users\\dell\\appdata\\local\\programs\\python\\python37\\lib\\site-packages\\sklearn\\metrics\\classification.py:1145: UndefinedMetricWarning: Recall and F-score are ill-defined and being set to 0.0 in labels with no true samples.\n",
      "  'recall', 'true', average, warn_for)\n",
      "c:\\users\\dell\\appdata\\local\\programs\\python\\python37\\lib\\site-packages\\sklearn\\ensemble\\forest.py:246: FutureWarning: The default value of n_estimators will change from 10 in version 0.20 to 100 in 0.22.\n",
      "  \"10 in version 0.20 to 100 in 0.22.\", FutureWarning)\n"
     ]
    },
    {
     "name": "stdout",
     "output_type": "stream",
     "text": [
      "Accuracy score :\n",
      "0.003014318010550113\n",
      "(1.0, 0.003014318010550113, 0.0060105184072126215, None)\n",
      "(0.5, 0.0015071590052750565, 0.0030052592036063108, None)\n",
      "(0.003014318010550113, 0.003014318010550113, 0.003014318010550113, None)\n",
      "(1.0, 0.003014318010550113, 0.0060105184072126215, None)\n",
      "Accuracy score :\n",
      "0.6058779201205727\n",
      "(1.0, 0.6058779201205727, 0.7545753167526983, None)\n",
      "(0.5, 0.30293896006028637, 0.37728765837634914, None)\n",
      "(0.6058779201205727, 0.6058779201205727, 0.6058779201205727, None)\n",
      "(1.0, 0.6058779201205727, 0.7545753167526983, None)\n",
      "[    0     1     2 ... 13269 13270 13271] [5310 5311 5312 ... 6634 6635 6636]\n"
     ]
    },
    {
     "name": "stderr",
     "output_type": "stream",
     "text": [
      "c:\\users\\dell\\appdata\\local\\programs\\python\\python37\\lib\\site-packages\\sklearn\\metrics\\classification.py:1145: UndefinedMetricWarning: Recall and F-score are ill-defined and being set to 0.0 in labels with no true samples.\n",
      "  'recall', 'true', average, warn_for)\n",
      "c:\\users\\dell\\appdata\\local\\programs\\python\\python37\\lib\\site-packages\\sklearn\\linear_model\\logistic.py:433: FutureWarning: Default solver will be changed to 'lbfgs' in 0.22. Specify a solver to silence this warning.\n",
      "  FutureWarning)\n"
     ]
    },
    {
     "name": "stdout",
     "output_type": "stream",
     "text": [
      "Accuracy score :\n",
      "0.5026375282592314\n",
      "(1.0, 0.502262443438914, 0.6686746987951807, None)\n",
      "(0.5007564296520424, 0.751131221719457, 0.33584792341571723, None)\n",
      "(0.5026375282592314, 0.5026375282592314, 0.5026375282592314, None)\n",
      "(0.9992475605571244, 0.5026375282592314, 0.6681730759234709, None)\n"
     ]
    },
    {
     "name": "stderr",
     "output_type": "stream",
     "text": [
      "c:\\users\\dell\\appdata\\local\\programs\\python\\python37\\lib\\site-packages\\sklearn\\svm\\base.py:922: ConvergenceWarning: Liblinear failed to converge, increase the number of iterations.\n",
      "  \"the number of iterations.\", ConvergenceWarning)\n",
      "c:\\users\\dell\\appdata\\local\\programs\\python\\python37\\lib\\site-packages\\sklearn\\ensemble\\forest.py:246: FutureWarning: The default value of n_estimators will change from 10 in version 0.20 to 100 in 0.22.\n",
      "  \"10 in version 0.20 to 100 in 0.22.\", FutureWarning)\n"
     ]
    },
    {
     "name": "stdout",
     "output_type": "stream",
     "text": [
      "Accuracy score :\n",
      "0.9856819894498869\n",
      "(0.9992360580595875, 0.9864253393665159, 0.9927893738140418, None)\n",
      "(0.49961802902979374, 0.49321266968325794, 0.4963946869070209, None)\n",
      "(0.9856819894498869, 0.9856819894498869, 0.9856819894498869, None)\n",
      "(0.9984830542479375, 0.9856819894498869, 0.9920412280914992, None)\n",
      "Accuracy score :\n",
      "0.5885455915599096\n",
      "(1.0, 0.5882352941176471, 0.7407407407407407, None)\n",
      "(0.5009140767824497, 0.7941176470588236, 0.37219518788861855, None)\n",
      "(0.5885455915599096, 0.5885455915599096, 0.5885455915599096, None)\n",
      "(0.9992477981564166, 0.5885455915599096, 0.7401852839919055, None)\n",
      "[    0     1     2 ... 13269 13270 13271] [6637 6638 6639 ... 7961 7962 7963]\n"
     ]
    },
    {
     "name": "stderr",
     "output_type": "stream",
     "text": [
      "c:\\users\\dell\\appdata\\local\\programs\\python\\python37\\lib\\site-packages\\sklearn\\linear_model\\logistic.py:433: FutureWarning: Default solver will be changed to 'lbfgs' in 0.22. Specify a solver to silence this warning.\n",
      "  FutureWarning)\n"
     ]
    },
    {
     "name": "stdout",
     "output_type": "stream",
     "text": [
      "Accuracy score :\n",
      "0.4242652599849284\n",
      "(0.0, 0.0, 0.0, None)\n",
      "(0.5, 0.2121326299924642, 0.2978835978835979, None)\n",
      "(0.4242652599849284, 0.4242652599849284, 0.4242652599849284, None)\n",
      "(1.0, 0.4242652599849284, 0.5957671957671958, None)\n"
     ]
    },
    {
     "name": "stderr",
     "output_type": "stream",
     "text": [
      "c:\\users\\dell\\appdata\\local\\programs\\python\\python37\\lib\\site-packages\\sklearn\\metrics\\classification.py:1145: UndefinedMetricWarning: Recall and F-score are ill-defined and being set to 0.0 due to no true samples.\n",
      "  'recall', 'true', average, warn_for)\n",
      "c:\\users\\dell\\appdata\\local\\programs\\python\\python37\\lib\\site-packages\\sklearn\\metrics\\classification.py:1145: UndefinedMetricWarning: Recall and F-score are ill-defined and being set to 0.0 in labels with no true samples.\n",
      "  'recall', 'true', average, warn_for)\n",
      "c:\\users\\dell\\appdata\\local\\programs\\python\\python37\\lib\\site-packages\\sklearn\\svm\\base.py:922: ConvergenceWarning: Liblinear failed to converge, increase the number of iterations.\n",
      "  \"the number of iterations.\", ConvergenceWarning)\n",
      "c:\\users\\dell\\appdata\\local\\programs\\python\\python37\\lib\\site-packages\\sklearn\\metrics\\classification.py:1145: UndefinedMetricWarning: Recall and F-score are ill-defined and being set to 0.0 due to no true samples.\n",
      "  'recall', 'true', average, warn_for)\n",
      "c:\\users\\dell\\appdata\\local\\programs\\python\\python37\\lib\\site-packages\\sklearn\\metrics\\classification.py:1145: UndefinedMetricWarning: Recall and F-score are ill-defined and being set to 0.0 in labels with no true samples.\n",
      "  'recall', 'true', average, warn_for)\n",
      "c:\\users\\dell\\appdata\\local\\programs\\python\\python37\\lib\\site-packages\\sklearn\\ensemble\\forest.py:246: FutureWarning: The default value of n_estimators will change from 10 in version 0.20 to 100 in 0.22.\n",
      "  \"10 in version 0.20 to 100 in 0.22.\", FutureWarning)\n"
     ]
    },
    {
     "name": "stdout",
     "output_type": "stream",
     "text": [
      "Accuracy score :\n",
      "0.6232102486812359\n",
      "(0.0, 0.0, 0.0, None)\n",
      "(0.5, 0.31160512434061793, 0.3839368616527391, None)\n",
      "(0.6232102486812359, 0.6232102486812359, 0.6232102486812359, None)\n",
      "(1.0, 0.6232102486812359, 0.7678737233054782, None)\n",
      "Accuracy score :\n"
     ]
    },
    {
     "name": "stderr",
     "output_type": "stream",
     "text": [
      "c:\\users\\dell\\appdata\\local\\programs\\python\\python37\\lib\\site-packages\\sklearn\\metrics\\classification.py:1145: UndefinedMetricWarning: Recall and F-score are ill-defined and being set to 0.0 due to no true samples.\n",
      "  'recall', 'true', average, warn_for)\n",
      "c:\\users\\dell\\appdata\\local\\programs\\python\\python37\\lib\\site-packages\\sklearn\\metrics\\classification.py:1145: UndefinedMetricWarning: Recall and F-score are ill-defined and being set to 0.0 in labels with no true samples.\n",
      "  'recall', 'true', average, warn_for)\n",
      "c:\\users\\dell\\appdata\\local\\programs\\python\\python37\\lib\\site-packages\\sklearn\\linear_model\\logistic.py:433: FutureWarning: Default solver will be changed to 'lbfgs' in 0.22. Specify a solver to silence this warning.\n",
      "  FutureWarning)\n"
     ]
    },
    {
     "name": "stdout",
     "output_type": "stream",
     "text": [
      "0.6955538809344386\n",
      "(0.0, 0.0, 0.0, None)\n",
      "(0.5, 0.3477769404672193, 0.4102222222222222, None)\n",
      "(0.6955538809344386, 0.6955538809344386, 0.6955538809344386, None)\n",
      "(1.0, 0.6955538809344386, 0.8204444444444445, None)\n",
      "[    0     1     2 ... 13269 13270 13271] [7964 7965 7966 ... 9288 9289 9290]\n",
      "Accuracy score :\n",
      "0.45139412207987945\n",
      "(0.0, 0.0, 0.0, None)\n",
      "(0.5, 0.22569706103993972, 0.3110072689511942, None)\n",
      "(0.45139412207987945, 0.45139412207987945, 0.45139412207987945, None)\n",
      "(1.0, 0.45139412207987945, 0.6220145379023884, None)\n"
     ]
    },
    {
     "name": "stderr",
     "output_type": "stream",
     "text": [
      "c:\\users\\dell\\appdata\\local\\programs\\python\\python37\\lib\\site-packages\\sklearn\\metrics\\classification.py:1145: UndefinedMetricWarning: Recall and F-score are ill-defined and being set to 0.0 due to no true samples.\n",
      "  'recall', 'true', average, warn_for)\n",
      "c:\\users\\dell\\appdata\\local\\programs\\python\\python37\\lib\\site-packages\\sklearn\\metrics\\classification.py:1145: UndefinedMetricWarning: Recall and F-score are ill-defined and being set to 0.0 in labels with no true samples.\n",
      "  'recall', 'true', average, warn_for)\n",
      "c:\\users\\dell\\appdata\\local\\programs\\python\\python37\\lib\\site-packages\\sklearn\\svm\\base.py:922: ConvergenceWarning: Liblinear failed to converge, increase the number of iterations.\n",
      "  \"the number of iterations.\", ConvergenceWarning)\n",
      "c:\\users\\dell\\appdata\\local\\programs\\python\\python37\\lib\\site-packages\\sklearn\\metrics\\classification.py:1145: UndefinedMetricWarning: Recall and F-score are ill-defined and being set to 0.0 due to no true samples.\n",
      "  'recall', 'true', average, warn_for)\n",
      "c:\\users\\dell\\appdata\\local\\programs\\python\\python37\\lib\\site-packages\\sklearn\\metrics\\classification.py:1145: UndefinedMetricWarning: Recall and F-score are ill-defined and being set to 0.0 in labels with no true samples.\n",
      "  'recall', 'true', average, warn_for)\n",
      "c:\\users\\dell\\appdata\\local\\programs\\python\\python37\\lib\\site-packages\\sklearn\\ensemble\\forest.py:246: FutureWarning: The default value of n_estimators will change from 10 in version 0.20 to 100 in 0.22.\n",
      "  \"10 in version 0.20 to 100 in 0.22.\", FutureWarning)\n"
     ]
    },
    {
     "name": "stdout",
     "output_type": "stream",
     "text": [
      "Accuracy score :\n",
      "0.18236623963828183\n",
      "(0.0, 0.0, 0.0, None)\n",
      "(0.5, 0.09118311981914091, 0.15423836838750796, None)\n",
      "(0.18236623963828183, 0.18236623963828183, 0.18236623963828183, None)\n",
      "(1.0, 0.18236623963828183, 0.3084767367750159, None)\n",
      "Accuracy score :\n",
      "0.7264506405425772\n",
      "(0.0, 0.0, 0.0, None)\n",
      "(0.5, 0.3632253202712886, 0.42077695329550413, None)\n",
      "(0.7264506405425772, 0.7264506405425772, 0.7264506405425772, None)\n",
      "(1.0, 0.7264506405425772, 0.8415539065910083, None)\n",
      "[    0     1     2 ... 13269 13270 13271] [ 9291  9292  9293 ... 10615 10616 10617]\n"
     ]
    },
    {
     "name": "stderr",
     "output_type": "stream",
     "text": [
      "c:\\users\\dell\\appdata\\local\\programs\\python\\python37\\lib\\site-packages\\sklearn\\metrics\\classification.py:1145: UndefinedMetricWarning: Recall and F-score are ill-defined and being set to 0.0 due to no true samples.\n",
      "  'recall', 'true', average, warn_for)\n",
      "c:\\users\\dell\\appdata\\local\\programs\\python\\python37\\lib\\site-packages\\sklearn\\metrics\\classification.py:1145: UndefinedMetricWarning: Recall and F-score are ill-defined and being set to 0.0 in labels with no true samples.\n",
      "  'recall', 'true', average, warn_for)\n",
      "c:\\users\\dell\\appdata\\local\\programs\\python\\python37\\lib\\site-packages\\sklearn\\linear_model\\logistic.py:433: FutureWarning: Default solver will be changed to 'lbfgs' in 0.22. Specify a solver to silence this warning.\n",
      "  FutureWarning)\n"
     ]
    },
    {
     "name": "stdout",
     "output_type": "stream",
     "text": [
      "Accuracy score :\n",
      "0.46345139412207986\n",
      "(0.0, 0.0, 0.0, None)\n",
      "(0.5, 0.23172569706103993, 0.31668383110195675, None)\n",
      "(0.46345139412207986, 0.46345139412207986, 0.46345139412207986, None)\n",
      "(1.0, 0.46345139412207986, 0.6333676622039135, None)\n"
     ]
    },
    {
     "name": "stderr",
     "output_type": "stream",
     "text": [
      "c:\\users\\dell\\appdata\\local\\programs\\python\\python37\\lib\\site-packages\\sklearn\\metrics\\classification.py:1145: UndefinedMetricWarning: Recall and F-score are ill-defined and being set to 0.0 due to no true samples.\n",
      "  'recall', 'true', average, warn_for)\n",
      "c:\\users\\dell\\appdata\\local\\programs\\python\\python37\\lib\\site-packages\\sklearn\\metrics\\classification.py:1145: UndefinedMetricWarning: Recall and F-score are ill-defined and being set to 0.0 in labels with no true samples.\n",
      "  'recall', 'true', average, warn_for)\n",
      "c:\\users\\dell\\appdata\\local\\programs\\python\\python37\\lib\\site-packages\\sklearn\\svm\\base.py:922: ConvergenceWarning: Liblinear failed to converge, increase the number of iterations.\n",
      "  \"the number of iterations.\", ConvergenceWarning)\n",
      "c:\\users\\dell\\appdata\\local\\programs\\python\\python37\\lib\\site-packages\\sklearn\\metrics\\classification.py:1145: UndefinedMetricWarning: Recall and F-score are ill-defined and being set to 0.0 due to no true samples.\n",
      "  'recall', 'true', average, warn_for)\n",
      "c:\\users\\dell\\appdata\\local\\programs\\python\\python37\\lib\\site-packages\\sklearn\\metrics\\classification.py:1145: UndefinedMetricWarning: Recall and F-score are ill-defined and being set to 0.0 in labels with no true samples.\n",
      "  'recall', 'true', average, warn_for)\n",
      "c:\\users\\dell\\appdata\\local\\programs\\python\\python37\\lib\\site-packages\\sklearn\\ensemble\\forest.py:246: FutureWarning: The default value of n_estimators will change from 10 in version 0.20 to 100 in 0.22.\n",
      "  \"10 in version 0.20 to 100 in 0.22.\", FutureWarning)\n"
     ]
    },
    {
     "name": "stdout",
     "output_type": "stream",
     "text": [
      "Accuracy score :\n",
      "0.0015071590052750565\n",
      "(0.0, 0.0, 0.0, None)\n",
      "(0.5, 0.0007535795026375283, 0.0015048908954100827, None)\n",
      "(0.0015071590052750565, 0.0015071590052750565, 0.0015071590052750565, None)\n",
      "(1.0, 0.0015071590052750565, 0.0030097817908201654, None)\n",
      "Accuracy score :\n",
      "0.7287113790504898\n",
      "(0.0, 0.0, 0.0, None)\n",
      "(0.5, 0.3643556895252449, 0.42153443766346993, None)\n",
      "(0.7287113790504898, 0.7287113790504898, 0.7287113790504898, None)\n",
      "(1.0, 0.7287113790504898, 0.8430688753269399, None)\n",
      "[    0     1     2 ... 13269 13270 13271] [10618 10619 10620 ... 11942 11943 11944]\n"
     ]
    },
    {
     "name": "stderr",
     "output_type": "stream",
     "text": [
      "c:\\users\\dell\\appdata\\local\\programs\\python\\python37\\lib\\site-packages\\sklearn\\metrics\\classification.py:1145: UndefinedMetricWarning: Recall and F-score are ill-defined and being set to 0.0 due to no true samples.\n",
      "  'recall', 'true', average, warn_for)\n",
      "c:\\users\\dell\\appdata\\local\\programs\\python\\python37\\lib\\site-packages\\sklearn\\metrics\\classification.py:1145: UndefinedMetricWarning: Recall and F-score are ill-defined and being set to 0.0 in labels with no true samples.\n",
      "  'recall', 'true', average, warn_for)\n",
      "c:\\users\\dell\\appdata\\local\\programs\\python\\python37\\lib\\site-packages\\sklearn\\linear_model\\logistic.py:433: FutureWarning: Default solver will be changed to 'lbfgs' in 0.22. Specify a solver to silence this warning.\n",
      "  FutureWarning)\n"
     ]
    },
    {
     "name": "stdout",
     "output_type": "stream",
     "text": [
      "Accuracy score :\n",
      "0.49886963074604374\n",
      "(0.0, 0.0, 0.0, None)\n",
      "(0.5, 0.24943481537302187, 0.33283056812468576, None)\n",
      "(0.49886963074604374, 0.49886963074604374, 0.49886963074604374, None)\n",
      "(1.0, 0.49886963074604374, 0.6656611362493715, None)\n"
     ]
    },
    {
     "name": "stderr",
     "output_type": "stream",
     "text": [
      "c:\\users\\dell\\appdata\\local\\programs\\python\\python37\\lib\\site-packages\\sklearn\\metrics\\classification.py:1145: UndefinedMetricWarning: Recall and F-score are ill-defined and being set to 0.0 due to no true samples.\n",
      "  'recall', 'true', average, warn_for)\n",
      "c:\\users\\dell\\appdata\\local\\programs\\python\\python37\\lib\\site-packages\\sklearn\\metrics\\classification.py:1145: UndefinedMetricWarning: Recall and F-score are ill-defined and being set to 0.0 in labels with no true samples.\n",
      "  'recall', 'true', average, warn_for)\n",
      "c:\\users\\dell\\appdata\\local\\programs\\python\\python37\\lib\\site-packages\\sklearn\\svm\\base.py:922: ConvergenceWarning: Liblinear failed to converge, increase the number of iterations.\n",
      "  \"the number of iterations.\", ConvergenceWarning)\n",
      "c:\\users\\dell\\appdata\\local\\programs\\python\\python37\\lib\\site-packages\\sklearn\\metrics\\classification.py:1145: UndefinedMetricWarning: Recall and F-score are ill-defined and being set to 0.0 due to no true samples.\n",
      "  'recall', 'true', average, warn_for)\n",
      "c:\\users\\dell\\appdata\\local\\programs\\python\\python37\\lib\\site-packages\\sklearn\\metrics\\classification.py:1145: UndefinedMetricWarning: Recall and F-score are ill-defined and being set to 0.0 in labels with no true samples.\n",
      "  'recall', 'true', average, warn_for)\n",
      "c:\\users\\dell\\appdata\\local\\programs\\python\\python37\\lib\\site-packages\\sklearn\\ensemble\\forest.py:246: FutureWarning: The default value of n_estimators will change from 10 in version 0.20 to 100 in 0.22.\n",
      "  \"10 in version 0.20 to 100 in 0.22.\", FutureWarning)\n"
     ]
    },
    {
     "name": "stdout",
     "output_type": "stream",
     "text": [
      "Accuracy score :\n",
      "0.48681235870384326\n",
      "(0.0, 0.0, 0.0, None)\n",
      "(0.5, 0.24340617935192163, 0.32742017232640647, None)\n",
      "(0.48681235870384326, 0.48681235870384326, 0.48681235870384326, None)\n",
      "(1.0, 0.48681235870384326, 0.6548403446528129, None)\n",
      "Accuracy score :\n",
      "0.7196684250188395\n",
      "(0.0, 0.0, 0.0, None)\n",
      "(0.5, 0.35983421250941977, 0.41849255039439087, None)\n",
      "(0.7196684250188395, 0.7196684250188395, 0.7196684250188395, None)\n",
      "(1.0, 0.7196684250188395, 0.8369851007887817, None)\n",
      "[    0     1     2 ... 11942 11943 11944] [11945 11946 11947 ... 13269 13270 13271]\n"
     ]
    },
    {
     "name": "stderr",
     "output_type": "stream",
     "text": [
      "c:\\users\\dell\\appdata\\local\\programs\\python\\python37\\lib\\site-packages\\sklearn\\metrics\\classification.py:1145: UndefinedMetricWarning: Recall and F-score are ill-defined and being set to 0.0 due to no true samples.\n",
      "  'recall', 'true', average, warn_for)\n",
      "c:\\users\\dell\\appdata\\local\\programs\\python\\python37\\lib\\site-packages\\sklearn\\metrics\\classification.py:1145: UndefinedMetricWarning: Recall and F-score are ill-defined and being set to 0.0 in labels with no true samples.\n",
      "  'recall', 'true', average, warn_for)\n",
      "c:\\users\\dell\\appdata\\local\\programs\\python\\python37\\lib\\site-packages\\sklearn\\linear_model\\logistic.py:433: FutureWarning: Default solver will be changed to 'lbfgs' in 0.22. Specify a solver to silence this warning.\n",
      "  FutureWarning)\n"
     ]
    },
    {
     "name": "stdout",
     "output_type": "stream",
     "text": [
      "Accuracy score :\n",
      "0.5146948003014318\n",
      "(0.0, 0.0, 0.0, None)\n",
      "(0.5, 0.2573474001507159, 0.3398009950248756, None)\n",
      "(0.5146948003014318, 0.5146948003014318, 0.5146948003014318, None)\n",
      "(1.0, 0.5146948003014318, 0.6796019900497512, None)\n"
     ]
    },
    {
     "name": "stderr",
     "output_type": "stream",
     "text": [
      "c:\\users\\dell\\appdata\\local\\programs\\python\\python37\\lib\\site-packages\\sklearn\\metrics\\classification.py:1145: UndefinedMetricWarning: Recall and F-score are ill-defined and being set to 0.0 due to no true samples.\n",
      "  'recall', 'true', average, warn_for)\n",
      "c:\\users\\dell\\appdata\\local\\programs\\python\\python37\\lib\\site-packages\\sklearn\\metrics\\classification.py:1145: UndefinedMetricWarning: Recall and F-score are ill-defined and being set to 0.0 in labels with no true samples.\n",
      "  'recall', 'true', average, warn_for)\n",
      "c:\\users\\dell\\appdata\\local\\programs\\python\\python37\\lib\\site-packages\\sklearn\\svm\\base.py:922: ConvergenceWarning: Liblinear failed to converge, increase the number of iterations.\n",
      "  \"the number of iterations.\", ConvergenceWarning)\n",
      "c:\\users\\dell\\appdata\\local\\programs\\python\\python37\\lib\\site-packages\\sklearn\\ensemble\\forest.py:246: FutureWarning: The default value of n_estimators will change from 10 in version 0.20 to 100 in 0.22.\n",
      "  \"10 in version 0.20 to 100 in 0.22.\", FutureWarning)\n"
     ]
    },
    {
     "name": "stdout",
     "output_type": "stream",
     "text": [
      "Accuracy score :\n",
      "1.0\n",
      "(0.0, 0.0, 0.0, 0)\n",
      "(1.0, 1.0, 1.0, None)\n",
      "(1.0, 1.0, 1.0, None)\n",
      "(1.0, 1.0, 1.0, None)\n",
      "Accuracy score :\n",
      "0.720422004521477\n",
      "(0.0, 0.0, 0.0, None)\n",
      "(0.5, 0.3602110022607385, 0.4187472623740692, None)\n",
      "(0.720422004521477, 0.720422004521477, 0.7204220045214771, None)\n",
      "(1.0, 0.720422004521477, 0.8374945247481383, None)\n",
      "Done With K-Fold processing\n"
     ]
    },
    {
     "name": "stderr",
     "output_type": "stream",
     "text": [
      "c:\\users\\dell\\appdata\\local\\programs\\python\\python37\\lib\\site-packages\\sklearn\\metrics\\classification.py:1145: UndefinedMetricWarning: Recall and F-score are ill-defined and being set to 0.0 due to no true samples.\n",
      "  'recall', 'true', average, warn_for)\n",
      "c:\\users\\dell\\appdata\\local\\programs\\python\\python37\\lib\\site-packages\\sklearn\\metrics\\classification.py:1145: UndefinedMetricWarning: Recall and F-score are ill-defined and being set to 0.0 in labels with no true samples.\n",
      "  'recall', 'true', average, warn_for)\n"
     ]
    }
   ],
   "source": [
    "kf = KFold(n_splits=10)\n",
    "for train, test in kf.split(data_df):\n",
    "    print(\"%s %s\" % (train, test))\n",
    "    train_df = data_df.iloc[train]\n",
    "    test_df =  data_df.iloc[test]\n",
    "    X_train = train_df.drop(\"default payment next month\" , axis = 1)\n",
    "    y_train = train_df['default payment next month']\n",
    "    X_test = test_df.drop('default payment next month', axis = 1)\n",
    "    y_test = test_df['default payment next month']\n",
    "#     Logistic Regression\n",
    "    logisticRegression = LogisticRegression()\n",
    "    logisticRegression.fit(X_train,y_train)\n",
    "    logReg_Predictions = logisticRegression.predict(X_test)\n",
    "    kfold_log_Eval.append(evaluation('Logistic Regression',y_test,logReg_Predictions))\n",
    "    \n",
    "#     Linear SVC\n",
    "    linearsvc = LinearSVC()\n",
    "    linearsvc.fit(X_train,y_train)\n",
    "    linearsvc_Predictions = linearsvc.predict(X_test)\n",
    "    kfold_lin_Eval.append(evaluation('LinearSVC',y_test,linearsvc_Predictions))\n",
    "    \n",
    "#     Random Forest\n",
    "    random_forest = RandomForestClassifier()\n",
    "    random_forest.fit(X_train,y_train)\n",
    "    random_forest_Predictions = random_forest.predict(X_test)\n",
    "    kfold_random_Eval.append(evaluation('Random Forest Classifier',y_test,random_forest_Predictions))\n",
    "    \n",
    "print('Done With K-Fold processing')"
   ]
  },
  {
   "cell_type": "code",
   "execution_count": 100,
   "metadata": {},
   "outputs": [
    {
     "data": {
      "text/html": [
       "<div>\n",
       "<style scoped>\n",
       "    .dataframe tbody tr th:only-of-type {\n",
       "        vertical-align: middle;\n",
       "    }\n",
       "\n",
       "    .dataframe tbody tr th {\n",
       "        vertical-align: top;\n",
       "    }\n",
       "\n",
       "    .dataframe thead th {\n",
       "        text-align: right;\n",
       "    }\n",
       "</style>\n",
       "<table border=\"1\" class=\"dataframe\">\n",
       "  <thead>\n",
       "    <tr style=\"text-align: right;\">\n",
       "      <th></th>\n",
       "      <th>Model Name</th>\n",
       "      <th>Accuracy</th>\n",
       "      <th>Precision</th>\n",
       "      <th>Recall</th>\n",
       "      <th>F1 Measure</th>\n",
       "    </tr>\n",
       "  </thead>\n",
       "  <tbody>\n",
       "    <tr>\n",
       "      <th>0</th>\n",
       "      <td>Logistic Regression</td>\n",
       "      <td>0.51</td>\n",
       "      <td>1.0</td>\n",
       "      <td>0.51</td>\n",
       "      <td>0.67</td>\n",
       "    </tr>\n",
       "    <tr>\n",
       "      <th>1</th>\n",
       "      <td>Logistic Regression</td>\n",
       "      <td>0.51</td>\n",
       "      <td>1.0</td>\n",
       "      <td>0.51</td>\n",
       "      <td>0.67</td>\n",
       "    </tr>\n",
       "    <tr>\n",
       "      <th>2</th>\n",
       "      <td>Logistic Regression</td>\n",
       "      <td>0.57</td>\n",
       "      <td>1.0</td>\n",
       "      <td>0.57</td>\n",
       "      <td>0.73</td>\n",
       "    </tr>\n",
       "    <tr>\n",
       "      <th>3</th>\n",
       "      <td>Logistic Regression</td>\n",
       "      <td>0.60</td>\n",
       "      <td>1.0</td>\n",
       "      <td>0.60</td>\n",
       "      <td>0.75</td>\n",
       "    </tr>\n",
       "    <tr>\n",
       "      <th>4</th>\n",
       "      <td>Logistic Regression</td>\n",
       "      <td>0.50</td>\n",
       "      <td>1.0</td>\n",
       "      <td>0.50</td>\n",
       "      <td>0.67</td>\n",
       "    </tr>\n",
       "    <tr>\n",
       "      <th>5</th>\n",
       "      <td>Logistic Regression</td>\n",
       "      <td>0.42</td>\n",
       "      <td>0.0</td>\n",
       "      <td>0.00</td>\n",
       "      <td>0.00</td>\n",
       "    </tr>\n",
       "    <tr>\n",
       "      <th>6</th>\n",
       "      <td>Logistic Regression</td>\n",
       "      <td>0.45</td>\n",
       "      <td>0.0</td>\n",
       "      <td>0.00</td>\n",
       "      <td>0.00</td>\n",
       "    </tr>\n",
       "    <tr>\n",
       "      <th>7</th>\n",
       "      <td>Logistic Regression</td>\n",
       "      <td>0.46</td>\n",
       "      <td>0.0</td>\n",
       "      <td>0.00</td>\n",
       "      <td>0.00</td>\n",
       "    </tr>\n",
       "    <tr>\n",
       "      <th>8</th>\n",
       "      <td>Logistic Regression</td>\n",
       "      <td>0.50</td>\n",
       "      <td>0.0</td>\n",
       "      <td>0.00</td>\n",
       "      <td>0.00</td>\n",
       "    </tr>\n",
       "    <tr>\n",
       "      <th>9</th>\n",
       "      <td>Logistic Regression</td>\n",
       "      <td>0.51</td>\n",
       "      <td>0.0</td>\n",
       "      <td>0.00</td>\n",
       "      <td>0.00</td>\n",
       "    </tr>\n",
       "  </tbody>\n",
       "</table>\n",
       "</div>"
      ],
      "text/plain": [
       "            Model Name  Accuracy  Precision  Recall  F1 Measure\n",
       "0  Logistic Regression      0.51        1.0    0.51        0.67\n",
       "1  Logistic Regression      0.51        1.0    0.51        0.67\n",
       "2  Logistic Regression      0.57        1.0    0.57        0.73\n",
       "3  Logistic Regression      0.60        1.0    0.60        0.75\n",
       "4  Logistic Regression      0.50        1.0    0.50        0.67\n",
       "5  Logistic Regression      0.42        0.0    0.00        0.00\n",
       "6  Logistic Regression      0.45        0.0    0.00        0.00\n",
       "7  Logistic Regression      0.46        0.0    0.00        0.00\n",
       "8  Logistic Regression      0.50        0.0    0.00        0.00\n",
       "9  Logistic Regression      0.51        0.0    0.00        0.00"
      ]
     },
     "execution_count": 100,
     "metadata": {},
     "output_type": "execute_result"
    }
   ],
   "source": [
    "logistic_reg_evaluation_df = pd.DataFrame(\n",
    "    kfold_log_Eval ,\n",
    "    columns=['Model Name','Accuracy','Precision','Recall','F1 Measure'])\n",
    "logistic_reg_evaluation_df"
   ]
  },
  {
   "cell_type": "code",
   "execution_count": 128,
   "metadata": {},
   "outputs": [
    {
     "data": {
      "image/png": "[encoded data removed]",
      "text/plain": [
       "<Figure size 432x288 with 4 Axes>"
      ]
     },
     "metadata": {
      "needs_background": "light"
     },
     "output_type": "display_data"
    }
   ],
   "source": [
    "# Accuracy\n",
    "plt.subplot(221)\n",
    "plt.plot(logistic_reg_evaluation_df.index,logistic_reg_evaluation_df['Accuracy'])\n",
    "plt.title('Accuracy')\n",
    "plt.grid(True)\n",
    "\n",
    "# Precision\n",
    "plt.subplot(222)\n",
    "plt.plot(logistic_reg_evaluation_df.index,logistic_reg_evaluation_df['Precision'])\n",
    "plt.title('Precision')\n",
    "plt.grid(True)\n",
    "\n",
    "# Recall\n",
    "plt.subplot(223)\n",
    "plt.plot(logistic_reg_evaluation_df.index,logistic_reg_evaluation_df['Recall'])\n",
    "plt.title('Recall')\n",
    "plt.grid(True)\n",
    "\n",
    "# F1 Measure\n",
    "plt.subplot(224)\n",
    "plt.plot(logistic_reg_evaluation_df.index,logistic_reg_evaluation_df['F1 Measure'])\n",
    "plt.title('F1 Measure')\n",
    "plt.grid(True)\n",
    "\n",
    "plt.subplots_adjust(top=1, bottom=0, left=0.10, right=1.95, hspace=0.55,\n",
    "                    wspace=0.35)\n",
    "plt.show()"
   ]
  },
  {
   "cell_type": "code",
   "execution_count": 101,
   "metadata": {},
   "outputs": [
    {
     "data": {
      "text/html": [
       "<div>\n",
       "<style scoped>\n",
       "    .dataframe tbody tr th:only-of-type {\n",
       "        vertical-align: middle;\n",
       "    }\n",
       "\n",
       "    .dataframe tbody tr th {\n",
       "        vertical-align: top;\n",
       "    }\n",
       "\n",
       "    .dataframe thead th {\n",
       "        text-align: right;\n",
       "    }\n",
       "</style>\n",
       "<table border=\"1\" class=\"dataframe\">\n",
       "  <thead>\n",
       "    <tr style=\"text-align: right;\">\n",
       "      <th></th>\n",
       "      <th>Model Name</th>\n",
       "      <th>Accuracy</th>\n",
       "      <th>Precision</th>\n",
       "      <th>Recall</th>\n",
       "      <th>F1 Measure</th>\n",
       "    </tr>\n",
       "  </thead>\n",
       "  <tbody>\n",
       "    <tr>\n",
       "      <th>0</th>\n",
       "      <td>LinearSVC</td>\n",
       "      <td>0.01</td>\n",
       "      <td>1.0</td>\n",
       "      <td>0.01</td>\n",
       "      <td>0.02</td>\n",
       "    </tr>\n",
       "    <tr>\n",
       "      <th>1</th>\n",
       "      <td>LinearSVC</td>\n",
       "      <td>0.99</td>\n",
       "      <td>1.0</td>\n",
       "      <td>0.99</td>\n",
       "      <td>0.99</td>\n",
       "    </tr>\n",
       "    <tr>\n",
       "      <th>2</th>\n",
       "      <td>LinearSVC</td>\n",
       "      <td>0.46</td>\n",
       "      <td>1.0</td>\n",
       "      <td>0.46</td>\n",
       "      <td>0.63</td>\n",
       "    </tr>\n",
       "    <tr>\n",
       "      <th>3</th>\n",
       "      <td>LinearSVC</td>\n",
       "      <td>0.00</td>\n",
       "      <td>1.0</td>\n",
       "      <td>0.00</td>\n",
       "      <td>0.01</td>\n",
       "    </tr>\n",
       "    <tr>\n",
       "      <th>4</th>\n",
       "      <td>LinearSVC</td>\n",
       "      <td>0.99</td>\n",
       "      <td>1.0</td>\n",
       "      <td>0.99</td>\n",
       "      <td>0.99</td>\n",
       "    </tr>\n",
       "    <tr>\n",
       "      <th>5</th>\n",
       "      <td>LinearSVC</td>\n",
       "      <td>0.62</td>\n",
       "      <td>0.0</td>\n",
       "      <td>0.00</td>\n",
       "      <td>0.00</td>\n",
       "    </tr>\n",
       "    <tr>\n",
       "      <th>6</th>\n",
       "      <td>LinearSVC</td>\n",
       "      <td>0.18</td>\n",
       "      <td>0.0</td>\n",
       "      <td>0.00</td>\n",
       "      <td>0.00</td>\n",
       "    </tr>\n",
       "    <tr>\n",
       "      <th>7</th>\n",
       "      <td>LinearSVC</td>\n",
       "      <td>0.00</td>\n",
       "      <td>0.0</td>\n",
       "      <td>0.00</td>\n",
       "      <td>0.00</td>\n",
       "    </tr>\n",
       "    <tr>\n",
       "      <th>8</th>\n",
       "      <td>LinearSVC</td>\n",
       "      <td>0.49</td>\n",
       "      <td>0.0</td>\n",
       "      <td>0.00</td>\n",
       "      <td>0.00</td>\n",
       "    </tr>\n",
       "    <tr>\n",
       "      <th>9</th>\n",
       "      <td>LinearSVC</td>\n",
       "      <td>1.00</td>\n",
       "      <td>0.0</td>\n",
       "      <td>0.00</td>\n",
       "      <td>0.00</td>\n",
       "    </tr>\n",
       "  </tbody>\n",
       "</table>\n",
       "</div>"
      ],
      "text/plain": [
       "  Model Name  Accuracy  Precision  Recall  F1 Measure\n",
       "0  LinearSVC      0.01        1.0    0.01        0.02\n",
       "1  LinearSVC      0.99        1.0    0.99        0.99\n",
       "2  LinearSVC      0.46        1.0    0.46        0.63\n",
       "3  LinearSVC      0.00        1.0    0.00        0.01\n",
       "4  LinearSVC      0.99        1.0    0.99        0.99\n",
       "5  LinearSVC      0.62        0.0    0.00        0.00\n",
       "6  LinearSVC      0.18        0.0    0.00        0.00\n",
       "7  LinearSVC      0.00        0.0    0.00        0.00\n",
       "8  LinearSVC      0.49        0.0    0.00        0.00\n",
       "9  LinearSVC      1.00        0.0    0.00        0.00"
      ]
     },
     "execution_count": 101,
     "metadata": {},
     "output_type": "execute_result"
    }
   ],
   "source": [
    "linearsvc_evaluation_df = pd.DataFrame(\n",
    "    kfold_lin_Eval ,\n",
    "    columns=['Model Name','Accuracy','Precision','Recall','F1 Measure'])\n",
    "linearsvc_evaluation_df"
   ]
  },
  {
   "cell_type": "code",
   "execution_count": 129,
   "metadata": {},
   "outputs": [
    {
     "data": {
      "image/png": "[encoded data removed]",
      "text/plain": [
       "<Figure size 432x288 with 4 Axes>"
      ]
     },
     "metadata": {
      "needs_background": "light"
     },
     "output_type": "display_data"
    }
   ],
   "source": [
    "# Accuracy\n",
    "plt.subplot(221)\n",
    "plt.plot(linearsvc_evaluation_df.index,linearsvc_evaluation_df['Accuracy'])\n",
    "plt.title('Accuracy')\n",
    "plt.grid(True)\n",
    "\n",
    "# Precision\n",
    "plt.subplot(222)\n",
    "plt.plot(linearsvc_evaluation_df.index,linearsvc_evaluation_df['Precision'])\n",
    "plt.title('Precision')\n",
    "plt.grid(True)\n",
    "\n",
    "# Recall\n",
    "plt.subplot(223)\n",
    "plt.plot(linearsvc_evaluation_df.index,linearsvc_evaluation_df['Recall'])\n",
    "plt.title('Recall')\n",
    "plt.grid(True)\n",
    "\n",
    "# F1 Measure\n",
    "plt.subplot(224)\n",
    "plt.plot(linearsvc_evaluation_df.index,linearsvc_evaluation_df['F1 Measure'])\n",
    "plt.title('F1 Measure')\n",
    "plt.grid(True)\n",
    "\n",
    "plt.subplots_adjust(top=1, bottom=0, left=0.10, right=1.95, hspace=0.55,\n",
    "                    wspace=0.35)\n",
    "plt.show()"
   ]
  },
  {
   "cell_type": "code",
   "execution_count": 142,
   "metadata": {},
   "outputs": [
    {
     "data": {
      "text/html": [
       "<div>\n",
       "<style scoped>\n",
       "    .dataframe tbody tr th:only-of-type {\n",
       "        vertical-align: middle;\n",
       "    }\n",
       "\n",
       "    .dataframe tbody tr th {\n",
       "        vertical-align: top;\n",
       "    }\n",
       "\n",
       "    .dataframe thead th {\n",
       "        text-align: right;\n",
       "    }\n",
       "</style>\n",
       "<table border=\"1\" class=\"dataframe\">\n",
       "  <thead>\n",
       "    <tr style=\"text-align: right;\">\n",
       "      <th></th>\n",
       "      <th>Model Name</th>\n",
       "      <th>Accuracy</th>\n",
       "      <th>Precision</th>\n",
       "      <th>Recall</th>\n",
       "      <th>F1 Measure</th>\n",
       "    </tr>\n",
       "  </thead>\n",
       "  <tbody>\n",
       "    <tr>\n",
       "      <th>0</th>\n",
       "      <td>Random Forest Classifier</td>\n",
       "      <td>0.49</td>\n",
       "      <td>1.0</td>\n",
       "      <td>0.49</td>\n",
       "      <td>0.66</td>\n",
       "    </tr>\n",
       "    <tr>\n",
       "      <th>1</th>\n",
       "      <td>Random Forest Classifier</td>\n",
       "      <td>0.52</td>\n",
       "      <td>1.0</td>\n",
       "      <td>0.52</td>\n",
       "      <td>0.68</td>\n",
       "    </tr>\n",
       "    <tr>\n",
       "      <th>2</th>\n",
       "      <td>Random Forest Classifier</td>\n",
       "      <td>0.59</td>\n",
       "      <td>1.0</td>\n",
       "      <td>0.59</td>\n",
       "      <td>0.74</td>\n",
       "    </tr>\n",
       "    <tr>\n",
       "      <th>3</th>\n",
       "      <td>Random Forest Classifier</td>\n",
       "      <td>0.61</td>\n",
       "      <td>1.0</td>\n",
       "      <td>0.61</td>\n",
       "      <td>0.75</td>\n",
       "    </tr>\n",
       "    <tr>\n",
       "      <th>4</th>\n",
       "      <td>Random Forest Classifier</td>\n",
       "      <td>0.59</td>\n",
       "      <td>1.0</td>\n",
       "      <td>0.59</td>\n",
       "      <td>0.74</td>\n",
       "    </tr>\n",
       "    <tr>\n",
       "      <th>5</th>\n",
       "      <td>Random Forest Classifier</td>\n",
       "      <td>0.70</td>\n",
       "      <td>0.0</td>\n",
       "      <td>0.00</td>\n",
       "      <td>0.00</td>\n",
       "    </tr>\n",
       "    <tr>\n",
       "      <th>6</th>\n",
       "      <td>Random Forest Classifier</td>\n",
       "      <td>0.73</td>\n",
       "      <td>0.0</td>\n",
       "      <td>0.00</td>\n",
       "      <td>0.00</td>\n",
       "    </tr>\n",
       "    <tr>\n",
       "      <th>7</th>\n",
       "      <td>Random Forest Classifier</td>\n",
       "      <td>0.73</td>\n",
       "      <td>0.0</td>\n",
       "      <td>0.00</td>\n",
       "      <td>0.00</td>\n",
       "    </tr>\n",
       "    <tr>\n",
       "      <th>8</th>\n",
       "      <td>Random Forest Classifier</td>\n",
       "      <td>0.72</td>\n",
       "      <td>0.0</td>\n",
       "      <td>0.00</td>\n",
       "      <td>0.00</td>\n",
       "    </tr>\n",
       "    <tr>\n",
       "      <th>9</th>\n",
       "      <td>Random Forest Classifier</td>\n",
       "      <td>0.72</td>\n",
       "      <td>0.0</td>\n",
       "      <td>0.00</td>\n",
       "      <td>0.00</td>\n",
       "    </tr>\n",
       "  </tbody>\n",
       "</table>\n",
       "</div>"
      ],
      "text/plain": [
       "                 Model Name  Accuracy  Precision  Recall  F1 Measure\n",
       "0  Random Forest Classifier      0.49        1.0    0.49        0.66\n",
       "1  Random Forest Classifier      0.52        1.0    0.52        0.68\n",
       "2  Random Forest Classifier      0.59        1.0    0.59        0.74\n",
       "3  Random Forest Classifier      0.61        1.0    0.61        0.75\n",
       "4  Random Forest Classifier      0.59        1.0    0.59        0.74\n",
       "5  Random Forest Classifier      0.70        0.0    0.00        0.00\n",
       "6  Random Forest Classifier      0.73        0.0    0.00        0.00\n",
       "7  Random Forest Classifier      0.73        0.0    0.00        0.00\n",
       "8  Random Forest Classifier      0.72        0.0    0.00        0.00\n",
       "9  Random Forest Classifier      0.72        0.0    0.00        0.00"
      ]
     },
     "execution_count": 142,
     "metadata": {},
     "output_type": "execute_result"
    }
   ],
   "source": [
    "random_forest_evaluation_df = pd.DataFrame(\n",
    "    kfold_random_Eval ,\n",
    "    columns=['Model Name','Accuracy','Precision','Recall','F1 Measure'])\n",
    "random_forest_evaluation_df"
   ]
  },
  {
   "cell_type": "code",
   "execution_count": 143,
   "metadata": {},
   "outputs": [
    {
     "data": {
      "image/png": "[encoded data removed]",
      "text/plain": [
       "<Figure size 432x288 with 4 Axes>"
      ]
     },
     "metadata": {
      "needs_background": "light"
     },
     "output_type": "display_data"
    }
   ],
   "source": [
    "# Accuracy\n",
    "plt.subplot(221)\n",
    "plt.plot(random_forest_evaluation_df.index,random_forest_evaluation_df['Accuracy'])\n",
    "plt.title('Accuracy')\n",
    "plt.grid(True)\n",
    "\n",
    "# Precision\n",
    "plt.subplot(222)\n",
    "plt.plot(random_forest_evaluation_df.index,random_forest_evaluation_df['Precision'])\n",
    "plt.title('Precision')\n",
    "plt.grid(True)\n",
    "\n",
    "# Recall\n",
    "plt.subplot(223)\n",
    "plt.plot(random_forest_evaluation_df.index,random_forest_evaluation_df['Recall'])\n",
    "plt.title('Recall')\n",
    "plt.grid(True)\n",
    "\n",
    "# F1 Measure\n",
    "plt.subplot(224)\n",
    "plt.plot(random_forest_evaluation_df.index,random_forest_evaluation_df['F1 Measure'])\n",
    "plt.title('F1 Measure')\n",
    "plt.grid(True)\n",
    "\n",
    "plt.subplots_adjust(top=1, bottom=0, left=0.10, right=1.95, hspace=0.55,\n",
    "                    wspace=0.35)\n",
    "plt.show()"
   ]
  },
  {
   "cell_type": "code",
   "execution_count": 146,
   "metadata": {},
   "outputs": [
    {
     "data": {
      "text/plain": [
       "[{'Model Name': 'Logistic Regression',\n",
       "  'Accuracy': 0.5,\n",
       "  'Precision': 0.5,\n",
       "  'Recall': 0.27,\n",
       "  'F1 Measure': 0.35},\n",
       " {'Model Name': 'LinearSVc',\n",
       "  'Accuracy': 0.47,\n",
       "  'Precision': 0.5,\n",
       "  'Recall': 0.25,\n",
       "  'F1 Measure': 0.26},\n",
       " {'Model Name': 'Random Forest Classifier',\n",
       "  'Accuracy': 0.64,\n",
       "  'Precision': 0.5,\n",
       "  'Recall': 0.28,\n",
       "  'F1 Measure': 0.36}]"
      ]
     },
     "execution_count": 146,
     "metadata": {},
     "output_type": "execute_result"
    }
   ],
   "source": [
    "kFold_All_Evaluation_Final =[\n",
    "    {'Model Name':\"Logistic Regression\",\n",
    "     \"Accuracy\":round( \n",
    "         sum(\n",
    "             (logistic_reg_evaluation_df[\"Accuracy\"])\n",
    "         )/ len(logistic_reg_evaluation_df[\"Accuracy\"])\n",
    "     \n",
    "      ,2),\n",
    "     \"Precision\":round( \n",
    "         sum(\n",
    "             (logistic_reg_evaluation_df[\"Precision\"])\n",
    "         )/ len(logistic_reg_evaluation_df[\"Precision\"])\n",
    "     \n",
    "      ,2),\n",
    "     \"Recall\":round( \n",
    "         sum(\n",
    "             (logistic_reg_evaluation_df[\"Recall\"])\n",
    "         )/ len(logistic_reg_evaluation_df[\"Recall\"])\n",
    "     \n",
    "      ,2),\n",
    "     \"F1 Measure\":round( \n",
    "         sum(\n",
    "             (logistic_reg_evaluation_df[\"F1 Measure\"])\n",
    "         )/ len(logistic_reg_evaluation_df[\"F1 Measure\"])\n",
    "     \n",
    "      ,2)},\n",
    "    {'Model Name':\"LinearSVc\",\n",
    "     \"Accuracy\":round( \n",
    "         sum(\n",
    "             (linearsvc_evaluation_df[\"Accuracy\"])\n",
    "         )/ len(linearsvc_evaluation_df[\"Accuracy\"])\n",
    "     \n",
    "      ,2),\n",
    "     \"Precision\":round( \n",
    "         sum(\n",
    "             (linearsvc_evaluation_df[\"Precision\"])\n",
    "         )/ len(linearsvc_evaluation_df[\"Precision\"])\n",
    "     \n",
    "      ,2),\n",
    "     \"Recall\":round( \n",
    "         sum(\n",
    "             (linearsvc_evaluation_df[\"Recall\"])\n",
    "         )/ len(linearsvc_evaluation_df[\"Recall\"])\n",
    "     \n",
    "      ,2),\n",
    "     \"F1 Measure\":round( \n",
    "         sum(\n",
    "             (linearsvc_evaluation_df[\"F1 Measure\"])\n",
    "         )/ len(linearsvc_evaluation_df[\"F1 Measure\"])\n",
    "     \n",
    "      ,2)},\n",
    "        {'Model Name':\"Random Forest Classifier\",\n",
    "     \"Accuracy\":round( \n",
    "         sum(\n",
    "             (random_forest_evaluation_df[\"Accuracy\"])\n",
    "         )/ len(random_forest_evaluation_df[\"Accuracy\"])\n",
    "     \n",
    "      ,2),\n",
    "     \"Precision\":round( \n",
    "         sum(\n",
    "             (random_forest_evaluation_df[\"Precision\"])\n",
    "         )/ len(random_forest_evaluation_df[\"Precision\"])\n",
    "     \n",
    "      ,2),\n",
    "     \"Recall\":round( \n",
    "         sum(\n",
    "             (random_forest_evaluation_df[\"Recall\"])\n",
    "         )/ len(random_forest_evaluation_df[\"Recall\"])\n",
    "     \n",
    "      ,2),\n",
    "     \"F1 Measure\":round( \n",
    "         sum(\n",
    "             (random_forest_evaluation_df[\"F1 Measure\"])\n",
    "         )/ len(random_forest_evaluation_df[\"F1 Measure\"])\n",
    "     \n",
    "      ,2)}\n",
    "\n",
    "]\n",
    "kFold_All_Evaluation_Final"
   ]
  },
  {
   "cell_type": "code",
   "execution_count": 152,
   "metadata": {},
   "outputs": [],
   "source": [
    "kFold_All_Evaluation_df = pd.DataFrame(kFold_All_Evaluation_Final,\n",
    "                                       columns=['Model Name','Accuracy','Precision','Recall','F1 Measure'])"
   ]
  },
  {
   "cell_type": "code",
   "execution_count": 153,
   "metadata": {},
   "outputs": [
    {
     "data": {
      "text/html": [
       "<div>\n",
       "<style scoped>\n",
       "    .dataframe tbody tr th:only-of-type {\n",
       "        vertical-align: middle;\n",
       "    }\n",
       "\n",
       "    .dataframe tbody tr th {\n",
       "        vertical-align: top;\n",
       "    }\n",
       "\n",
       "    .dataframe thead th {\n",
       "        text-align: right;\n",
       "    }\n",
       "</style>\n",
       "<table border=\"1\" class=\"dataframe\">\n",
       "  <thead>\n",
       "    <tr style=\"text-align: right;\">\n",
       "      <th></th>\n",
       "      <th>Model Name</th>\n",
       "      <th>Accuracy</th>\n",
       "      <th>Precision</th>\n",
       "      <th>Recall</th>\n",
       "      <th>F1 Measure</th>\n",
       "    </tr>\n",
       "  </thead>\n",
       "  <tbody>\n",
       "    <tr>\n",
       "      <th>0</th>\n",
       "      <td>Logistic Regression</td>\n",
       "      <td>0.50</td>\n",
       "      <td>0.5</td>\n",
       "      <td>0.27</td>\n",
       "      <td>0.35</td>\n",
       "    </tr>\n",
       "    <tr>\n",
       "      <th>1</th>\n",
       "      <td>LinearSVc</td>\n",
       "      <td>0.47</td>\n",
       "      <td>0.5</td>\n",
       "      <td>0.25</td>\n",
       "      <td>0.26</td>\n",
       "    </tr>\n",
       "    <tr>\n",
       "      <th>2</th>\n",
       "      <td>Random Forest Classifier</td>\n",
       "      <td>0.64</td>\n",
       "      <td>0.5</td>\n",
       "      <td>0.28</td>\n",
       "      <td>0.36</td>\n",
       "    </tr>\n",
       "  </tbody>\n",
       "</table>\n",
       "</div>"
      ],
      "text/plain": [
       "                 Model Name  Accuracy  Precision  Recall  F1 Measure\n",
       "0       Logistic Regression      0.50        0.5    0.27        0.35\n",
       "1                 LinearSVc      0.47        0.5    0.25        0.26\n",
       "2  Random Forest Classifier      0.64        0.5    0.28        0.36"
      ]
     },
     "execution_count": 153,
     "metadata": {},
     "output_type": "execute_result"
    }
   ],
   "source": [
    "kFold_All_Evaluation_df"
   ]
  },
  {
   "cell_type": "markdown",
   "metadata": {},
   "source": [
    "# Best Model Using K-Fold"
   ]
  },
  {
   "cell_type": "markdown",
   "metadata": {},
   "source": [
    "## Random Forest Classifier"
   ]
  },
  {
   "cell_type": "markdown",
   "metadata": {},
   "source": [
    "# Stratified k-fold"
   ]
  },
  {
   "cell_type": "code",
   "execution_count": 14,
   "metadata": {},
   "outputs": [
    {
     "name": "stdout",
     "output_type": "stream",
     "text": [
      "[  664   665   666 ... 13269 13270 13271] [   0    1    2 ... 7297 7298 7299]\n"
     ]
    },
    {
     "name": "stderr",
     "output_type": "stream",
     "text": [
      "c:\\users\\khalil\\appdata\\local\\programs\\python\\python37\\lib\\site-packages\\sklearn\\linear_model\\logistic.py:433: FutureWarning: Default solver will be changed to 'lbfgs' in 0.22. Specify a solver to silence this warning.\n",
      "  FutureWarning)\n"
     ]
    },
    {
     "name": "stdout",
     "output_type": "stream",
     "text": [
      "Accuracy score :\n",
      "0.5881024096385542\n",
      "(0.5776892430278885, 0.6551204819277109, 0.6139731827805223, None)\n",
      "(0.5897141867313356, 0.5881024096385543, 0.5862440570884049, None)\n",
      "(0.5881024096385542, 0.5881024096385542, 0.5881024096385542, None)\n",
      "(0.5897141867313356, 0.5881024096385542, 0.5862440570884048, None)\n"
     ]
    },
    {
     "name": "stderr",
     "output_type": "stream",
     "text": [
      "c:\\users\\khalil\\appdata\\local\\programs\\python\\python37\\lib\\site-packages\\sklearn\\svm\\base.py:922: ConvergenceWarning: Liblinear failed to converge, increase the number of iterations.\n",
      "  \"the number of iterations.\", ConvergenceWarning)\n",
      "c:\\users\\khalil\\appdata\\local\\programs\\python\\python37\\lib\\site-packages\\sklearn\\ensemble\\forest.py:246: FutureWarning: The default value of n_estimators will change from 10 in version 0.20 to 100 in 0.22.\n",
      "  \"10 in version 0.20 to 100 in 0.22.\", FutureWarning)\n"
     ]
    },
    {
     "name": "stdout",
     "output_type": "stream",
     "text": [
      "Accuracy score :\n",
      "0.5015060240963856\n",
      "(0.5007552870090635, 0.9984939759036144, 0.6670020120724347, None)\n",
      "(0.6253776435045317, 0.5015060240963856, 0.3379920240002892, None)\n",
      "(0.5015060240963856, 0.5015060240963856, 0.5015060240963856, None)\n",
      "(0.6253776435045317, 0.5015060240963856, 0.3379920240002892, None)\n",
      "Accuracy score :\n",
      "0.6634036144578314\n",
      "(0.7183098591549296, 0.5376506024096386, 0.6149870801033591, None)\n",
      "(0.6744377213945527, 0.6634036144578314, 0.6579952122924821, None)\n",
      "(0.6634036144578314, 0.6634036144578314, 0.6634036144578314, None)\n",
      "(0.6744377213945527, 0.6634036144578314, 0.6579952122924823, None)\n",
      "[    0     1     2 ... 13269 13270 13271] [ 664  665  666 ... 7961 7962 7963]\n"
     ]
    },
    {
     "name": "stderr",
     "output_type": "stream",
     "text": [
      "c:\\users\\khalil\\appdata\\local\\programs\\python\\python37\\lib\\site-packages\\sklearn\\linear_model\\logistic.py:433: FutureWarning: Default solver will be changed to 'lbfgs' in 0.22. Specify a solver to silence this warning.\n",
      "  FutureWarning)\n"
     ]
    },
    {
     "name": "stdout",
     "output_type": "stream",
     "text": [
      "Accuracy score :\n",
      "0.5918674698795181\n",
      "(0.577020202020202, 0.6882530120481928, 0.6277472527472527, None)\n",
      "(0.5954130860847279, 0.5918674698795181, 0.588040293040293, None)\n",
      "(0.5918674698795181, 0.5918674698795181, 0.5918674698795181, None)\n",
      "(0.5954130860847279, 0.5918674698795181, 0.5880402930402931, None)\n"
     ]
    },
    {
     "name": "stderr",
     "output_type": "stream",
     "text": [
      "c:\\users\\khalil\\appdata\\local\\programs\\python\\python37\\lib\\site-packages\\sklearn\\svm\\base.py:922: ConvergenceWarning: Liblinear failed to converge, increase the number of iterations.\n",
      "  \"the number of iterations.\", ConvergenceWarning)\n",
      "c:\\users\\khalil\\appdata\\local\\programs\\python\\python37\\lib\\site-packages\\sklearn\\ensemble\\forest.py:246: FutureWarning: The default value of n_estimators will change from 10 in version 0.20 to 100 in 0.22.\n",
      "  \"10 in version 0.20 to 100 in 0.22.\", FutureWarning)\n"
     ]
    },
    {
     "name": "stdout",
     "output_type": "stream",
     "text": [
      "Accuracy score :\n",
      "0.5075301204819277\n",
      "(0.631578947368421, 0.03614457831325301, 0.06837606837606837, None)\n",
      "(0.5677274581803345, 0.5075301204819277, 0.3668390065524149, None)\n",
      "(0.5075301204819277, 0.5075301204819277, 0.5075301204819277, None)\n",
      "(0.5677274581803345, 0.5075301204819277, 0.36683900655241497, None)\n",
      "Accuracy score :\n",
      "0.6618975903614458\n",
      "(0.7087378640776699, 0.5496987951807228, 0.6191687871077183, None)\n",
      "(0.6704820931704463, 0.6618975903614457, 0.6575871017461408, None)\n",
      "(0.6618975903614458, 0.6618975903614458, 0.6618975903614458, None)\n",
      "(0.6704820931704463, 0.6618975903614458, 0.6575871017461408, None)\n",
      "[    0     1     2 ... 13269 13270 13271] [1328 1329 1330 ... 8625 8626 8627]\n"
     ]
    },
    {
     "name": "stderr",
     "output_type": "stream",
     "text": [
      "c:\\users\\khalil\\appdata\\local\\programs\\python\\python37\\lib\\site-packages\\sklearn\\linear_model\\logistic.py:433: FutureWarning: Default solver will be changed to 'lbfgs' in 0.22. Specify a solver to silence this warning.\n",
      "  FutureWarning)\n"
     ]
    },
    {
     "name": "stdout",
     "output_type": "stream",
     "text": [
      "Accuracy score :\n",
      "0.625\n",
      "(0.6097883597883598, 0.6942771084337349, 0.6492957746478872, None)\n",
      "(0.6274466274466275, 0.625, 0.623191576644332, None)\n",
      "(0.625, 0.625, 0.625, None)\n",
      "(0.6274466274466274, 0.625, 0.623191576644332, None)\n"
     ]
    },
    {
     "name": "stderr",
     "output_type": "stream",
     "text": [
      "c:\\users\\khalil\\appdata\\local\\programs\\python\\python37\\lib\\site-packages\\sklearn\\svm\\base.py:922: ConvergenceWarning: Liblinear failed to converge, increase the number of iterations.\n",
      "  \"the number of iterations.\", ConvergenceWarning)\n",
      "c:\\users\\khalil\\appdata\\local\\programs\\python\\python37\\lib\\site-packages\\sklearn\\ensemble\\forest.py:246: FutureWarning: The default value of n_estimators will change from 10 in version 0.20 to 100 in 0.22.\n",
      "  \"10 in version 0.20 to 100 in 0.22.\", FutureWarning)\n"
     ]
    },
    {
     "name": "stdout",
     "output_type": "stream",
     "text": [
      "Accuracy score :\n",
      "0.5015060240963856\n",
      "(1.0, 0.0030120481927710845, 0.006006006006006006, None)\n",
      "(0.7503770739064857, 0.5015060240963856, 0.3366713447115457, None)\n",
      "(0.5015060240963856, 0.5015060240963856, 0.5015060240963856, None)\n",
      "(0.7503770739064857, 0.5015060240963856, 0.3366713447115457, None)\n",
      "Accuracy score :\n",
      "0.6844879518072289\n",
      "(0.7494908350305499, 0.5542168674698795, 0.6372294372294371, None)\n",
      "(0.6979234342416788, 0.6844879518072289, 0.6790411010264441, None)\n",
      "(0.6844879518072289, 0.6844879518072289, 0.6844879518072289, None)\n",
      "(0.6979234342416788, 0.6844879518072289, 0.6790411010264441, None)\n",
      "[    0     1     2 ... 13269 13270 13271] [1992 1993 1994 ... 9289 9290 9291]\n"
     ]
    },
    {
     "name": "stderr",
     "output_type": "stream",
     "text": [
      "c:\\users\\khalil\\appdata\\local\\programs\\python\\python37\\lib\\site-packages\\sklearn\\linear_model\\logistic.py:433: FutureWarning: Default solver will be changed to 'lbfgs' in 0.22. Specify a solver to silence this warning.\n",
      "  FutureWarning)\n"
     ]
    },
    {
     "name": "stdout",
     "output_type": "stream",
     "text": [
      "Accuracy score :\n",
      "0.6189759036144579\n",
      "(0.6234375, 0.6009036144578314, 0.6119631901840491, None)\n",
      "(0.6191315406976744, 0.6189759036144579, 0.6188514175772317, None)\n",
      "(0.6189759036144579, 0.6189759036144579, 0.6189759036144579, None)\n",
      "(0.6191315406976744, 0.6189759036144579, 0.6188514175772317, None)\n"
     ]
    },
    {
     "name": "stderr",
     "output_type": "stream",
     "text": [
      "c:\\users\\khalil\\appdata\\local\\programs\\python\\python37\\lib\\site-packages\\sklearn\\svm\\base.py:922: ConvergenceWarning: Liblinear failed to converge, increase the number of iterations.\n",
      "  \"the number of iterations.\", ConvergenceWarning)\n",
      "c:\\users\\khalil\\appdata\\local\\programs\\python\\python37\\lib\\site-packages\\sklearn\\ensemble\\forest.py:246: FutureWarning: The default value of n_estimators will change from 10 in version 0.20 to 100 in 0.22.\n",
      "  \"10 in version 0.20 to 100 in 0.22.\", FutureWarning)\n"
     ]
    },
    {
     "name": "stdout",
     "output_type": "stream",
     "text": [
      "Accuracy score :\n",
      "0.5331325301204819\n",
      "(0.5181518151815182, 0.9457831325301205, 0.6695095948827293, None)\n",
      "(0.6039034937976557, 0.5331325301204819, 0.43731890000546725, None)\n",
      "(0.5331325301204819, 0.5331325301204819, 0.5331325301204819, None)\n",
      "(0.6039034937976557, 0.5331325301204819, 0.4373189000054672, None)\n",
      "Accuracy score :\n",
      "0.6641566265060241\n",
      "(0.719758064516129, 0.5376506024096386, 0.6155172413793104, None)\n",
      "(0.6753838399503722, 0.6641566265060241, 0.6586944495666606, None)\n",
      "(0.6641566265060241, 0.6641566265060241, 0.6641566265060241, None)\n",
      "(0.6753838399503722, 0.6641566265060241, 0.6586944495666606, None)\n",
      "[    0     1     2 ... 13269 13270 13271] [2656 2657 2658 ... 9953 9954 9955]\n"
     ]
    },
    {
     "name": "stderr",
     "output_type": "stream",
     "text": [
      "c:\\users\\khalil\\appdata\\local\\programs\\python\\python37\\lib\\site-packages\\sklearn\\linear_model\\logistic.py:433: FutureWarning: Default solver will be changed to 'lbfgs' in 0.22. Specify a solver to silence this warning.\n",
      "  FutureWarning)\n"
     ]
    },
    {
     "name": "stdout",
     "output_type": "stream",
     "text": [
      "Accuracy score :\n",
      "0.6287650602409639\n",
      "(0.6138482023968043, 0.6942771084337349, 0.6515901060070672, None)\n",
      "(0.6310142225155598, 0.6287650602409638, 0.6271649160172322, None)\n",
      "(0.6287650602409639, 0.6287650602409639, 0.6287650602409639, None)\n",
      "(0.6310142225155598, 0.6287650602409639, 0.6271649160172323, None)\n"
     ]
    },
    {
     "name": "stderr",
     "output_type": "stream",
     "text": [
      "c:\\users\\khalil\\appdata\\local\\programs\\python\\python37\\lib\\site-packages\\sklearn\\svm\\base.py:922: ConvergenceWarning: Liblinear failed to converge, increase the number of iterations.\n",
      "  \"the number of iterations.\", ConvergenceWarning)\n",
      "c:\\users\\khalil\\appdata\\local\\programs\\python\\python37\\lib\\site-packages\\sklearn\\ensemble\\forest.py:246: FutureWarning: The default value of n_estimators will change from 10 in version 0.20 to 100 in 0.22.\n",
      "  \"10 in version 0.20 to 100 in 0.22.\", FutureWarning)\n"
     ]
    },
    {
     "name": "stdout",
     "output_type": "stream",
     "text": [
      "Accuracy score :\n",
      "0.5060240963855421\n",
      "(0.5030395136778115, 0.9969879518072289, 0.6686868686868686, None)\n",
      "(0.6681864235055724, 0.5060240963855421, 0.3491363337517183, None)\n",
      "(0.5060240963855421, 0.5060240963855421, 0.5060240963855421, None)\n",
      "(0.6681864235055724, 0.5060240963855421, 0.34913633375171826, None)\n",
      "Accuracy score :\n",
      "0.677710843373494\n",
      "(0.7177121771217713, 0.5858433734939759, 0.6451077943615258, None)\n",
      "(0.6839197017924378, 0.677710843373494, 0.6749676902842112, None)\n",
      "(0.677710843373494, 0.677710843373494, 0.677710843373494, None)\n",
      "(0.6839197017924378, 0.677710843373494, 0.6749676902842112, None)\n",
      "[    0     1     2 ... 13269 13270 13271] [ 3320  3321  3322 ... 10617 10618 10619]\n"
     ]
    },
    {
     "name": "stderr",
     "output_type": "stream",
     "text": [
      "c:\\users\\khalil\\appdata\\local\\programs\\python\\python37\\lib\\site-packages\\sklearn\\linear_model\\logistic.py:433: FutureWarning: Default solver will be changed to 'lbfgs' in 0.22. Specify a solver to silence this warning.\n",
      "  FutureWarning)\n"
     ]
    },
    {
     "name": "stdout",
     "output_type": "stream",
     "text": [
      "Accuracy score :\n",
      "0.6558734939759037\n",
      "(0.6210526315789474, 0.7996987951807228, 0.6991441737985516, None)\n",
      "(0.6699343496161122, 0.6558734939759037, 0.6486046286758809, None)\n",
      "(0.6558734939759037, 0.6558734939759037, 0.6558734939759037, None)\n",
      "(0.6699343496161122, 0.6558734939759037, 0.648604628675881, None)\n"
     ]
    },
    {
     "name": "stderr",
     "output_type": "stream",
     "text": [
      "c:\\users\\khalil\\appdata\\local\\programs\\python\\python37\\lib\\site-packages\\sklearn\\svm\\base.py:922: ConvergenceWarning: Liblinear failed to converge, increase the number of iterations.\n",
      "  \"the number of iterations.\", ConvergenceWarning)\n",
      "c:\\users\\khalil\\appdata\\local\\programs\\python\\python37\\lib\\site-packages\\sklearn\\ensemble\\forest.py:246: FutureWarning: The default value of n_estimators will change from 10 in version 0.20 to 100 in 0.22.\n",
      "  \"10 in version 0.20 to 100 in 0.22.\", FutureWarning)\n"
     ]
    },
    {
     "name": "stdout",
     "output_type": "stream",
     "text": [
      "Accuracy score :\n",
      "0.6167168674698795\n",
      "(0.6352530541012217, 0.5481927710843374, 0.5885206143896524, None)\n",
      "(0.618951030361869, 0.6167168674698795, 0.6149086510989841, None)\n",
      "(0.6167168674698795, 0.6167168674698795, 0.6167168674698795, None)\n",
      "(0.618951030361869, 0.6167168674698795, 0.614908651098984, None)\n",
      "Accuracy score :\n",
      "0.7274096385542169\n",
      "(0.7374213836477987, 0.7063253012048193, 0.7215384615384615, None)\n",
      "(0.727814738066674, 0.7274096385542168, 0.7272884048105287, None)\n",
      "(0.7274096385542169, 0.7274096385542169, 0.727409638554217, None)\n",
      "(0.727814738066674, 0.7274096385542169, 0.7272884048105288, None)\n",
      "[    0     1     2 ... 13269 13270 13271] [ 3984  3985  3986 ... 11280 11281 11282]\n"
     ]
    },
    {
     "name": "stderr",
     "output_type": "stream",
     "text": [
      "c:\\users\\khalil\\appdata\\local\\programs\\python\\python37\\lib\\site-packages\\sklearn\\linear_model\\logistic.py:433: FutureWarning: Default solver will be changed to 'lbfgs' in 0.22. Specify a solver to silence this warning.\n",
      "  FutureWarning)\n"
     ]
    },
    {
     "name": "stdout",
     "output_type": "stream",
     "text": [
      "Accuracy score :\n",
      "0.6877828054298643\n",
      "(0.6786226685796269, 0.7134238310708899, 0.6955882352941176, None)\n",
      "(0.6882779479623096, 0.6877828054298643, 0.687577399380805, None)\n",
      "(0.6877828054298643, 0.6877828054298643, 0.6877828054298643, None)\n",
      "(0.6882779479623095, 0.6877828054298643, 0.687577399380805, None)\n"
     ]
    },
    {
     "name": "stderr",
     "output_type": "stream",
     "text": [
      "c:\\users\\khalil\\appdata\\local\\programs\\python\\python37\\lib\\site-packages\\sklearn\\svm\\base.py:922: ConvergenceWarning: Liblinear failed to converge, increase the number of iterations.\n",
      "  \"the number of iterations.\", ConvergenceWarning)\n",
      "c:\\users\\khalil\\appdata\\local\\programs\\python\\python37\\lib\\site-packages\\sklearn\\ensemble\\forest.py:246: FutureWarning: The default value of n_estimators will change from 10 in version 0.20 to 100 in 0.22.\n",
      "  \"10 in version 0.20 to 100 in 0.22.\", FutureWarning)\n"
     ]
    },
    {
     "name": "stdout",
     "output_type": "stream",
     "text": [
      "Accuracy score :\n",
      "0.5475113122171946\n",
      "(0.5344262295081967, 0.7375565610859729, 0.6197718631178707, None)\n",
      "(0.55553428263731, 0.5475113122171946, 0.5305563226203879, None)\n",
      "(0.5475113122171946, 0.5475113122171946, 0.5475113122171946, None)\n",
      "(0.55553428263731, 0.5475113122171946, 0.5305563226203878, None)\n",
      "Accuracy score :\n",
      "0.7383107088989442\n",
      "(0.7624584717607974, 0.6923076923076923, 0.7256916996047431, None)\n",
      "(0.7403452579798462, 0.7383107088989442, 0.7377557272356808, None)\n",
      "(0.7383107088989442, 0.7383107088989442, 0.7383107088989443, None)\n",
      "(0.7403452579798463, 0.7383107088989442, 0.7377557272356808, None)\n",
      "[    0     1     2 ... 13269 13270 13271] [ 4647  4648  4649 ... 11943 11944 11945]\n"
     ]
    },
    {
     "name": "stderr",
     "output_type": "stream",
     "text": [
      "c:\\users\\khalil\\appdata\\local\\programs\\python\\python37\\lib\\site-packages\\sklearn\\linear_model\\logistic.py:433: FutureWarning: Default solver will be changed to 'lbfgs' in 0.22. Specify a solver to silence this warning.\n",
      "  FutureWarning)\n"
     ]
    },
    {
     "name": "stdout",
     "output_type": "stream",
     "text": [
      "Accuracy score :\n",
      "0.6168929110105581\n",
      "(0.6037483266398929, 0.6802413273001509, 0.6397163120567375, None)\n",
      "(0.618799897344126, 0.6168929110105581, 0.615349299345599, None)\n",
      "(0.6168929110105581, 0.6168929110105581, 0.6168929110105581, None)\n",
      "(0.618799897344126, 0.6168929110105581, 0.615349299345599, None)\n"
     ]
    },
    {
     "name": "stderr",
     "output_type": "stream",
     "text": [
      "c:\\users\\khalil\\appdata\\local\\programs\\python\\python37\\lib\\site-packages\\sklearn\\svm\\base.py:922: ConvergenceWarning: Liblinear failed to converge, increase the number of iterations.\n",
      "  \"the number of iterations.\", ConvergenceWarning)\n",
      "c:\\users\\khalil\\appdata\\local\\programs\\python\\python37\\lib\\site-packages\\sklearn\\ensemble\\forest.py:246: FutureWarning: The default value of n_estimators will change from 10 in version 0.20 to 100 in 0.22.\n",
      "  \"10 in version 0.20 to 100 in 0.22.\", FutureWarning)\n"
     ]
    },
    {
     "name": "stdout",
     "output_type": "stream",
     "text": [
      "Accuracy score :\n",
      "0.6070889894419306\n",
      "(0.6354961832061069, 0.502262443438914, 0.561078348778433, None)\n",
      "(0.6120124307551731, 0.6070889894419307, 0.6027234747305135, None)\n",
      "(0.6070889894419306, 0.6070889894419306, 0.6070889894419306, None)\n",
      "(0.6120124307551731, 0.6070889894419306, 0.6027234747305134, None)\n",
      "Accuracy score :\n",
      "0.691553544494721\n",
      "(0.7228070175438597, 0.6214177978883861, 0.6682887266828873, None)\n",
      "(0.6953982177666389, 0.691553544494721, 0.6900287889933111, None)\n",
      "(0.691553544494721, 0.691553544494721, 0.691553544494721, None)\n",
      "(0.6953982177666389, 0.691553544494721, 0.6900287889933111, None)\n",
      "[    0     1     2 ... 13269 13270 13271] [ 5310  5311  5312 ... 12606 12607 12608]\n"
     ]
    },
    {
     "name": "stderr",
     "output_type": "stream",
     "text": [
      "c:\\users\\khalil\\appdata\\local\\programs\\python\\python37\\lib\\site-packages\\sklearn\\linear_model\\logistic.py:433: FutureWarning: Default solver will be changed to 'lbfgs' in 0.22. Specify a solver to silence this warning.\n",
      "  FutureWarning)\n"
     ]
    },
    {
     "name": "stdout",
     "output_type": "stream",
     "text": [
      "Accuracy score :\n",
      "0.6191553544494721\n",
      "(0.6058981233243967, 0.6817496229260935, 0.6415897799858055, None)\n",
      "(0.6210525099380604, 0.6191553544494721, 0.6176573195986952, None)\n",
      "(0.6191553544494721, 0.6191553544494721, 0.6191553544494721, None)\n",
      "(0.6210525099380605, 0.6191553544494721, 0.6176573195986953, None)\n"
     ]
    },
    {
     "name": "stderr",
     "output_type": "stream",
     "text": [
      "c:\\users\\khalil\\appdata\\local\\programs\\python\\python37\\lib\\site-packages\\sklearn\\svm\\base.py:922: ConvergenceWarning: Liblinear failed to converge, increase the number of iterations.\n",
      "  \"the number of iterations.\", ConvergenceWarning)\n",
      "c:\\users\\khalil\\appdata\\local\\programs\\python\\python37\\lib\\site-packages\\sklearn\\ensemble\\forest.py:246: FutureWarning: The default value of n_estimators will change from 10 in version 0.20 to 100 in 0.22.\n",
      "  \"10 in version 0.20 to 100 in 0.22.\", FutureWarning)\n"
     ]
    },
    {
     "name": "stdout",
     "output_type": "stream",
     "text": [
      "Accuracy score :\n",
      "0.5776772247360482\n",
      "(0.5560391730141458, 0.770739064856712, 0.6460176991150444, None)\n",
      "(0.5912873997748862, 0.5776772247360483, 0.5613266065668681, None)\n",
      "(0.5776772247360482, 0.5776772247360482, 0.5776772247360482, None)\n",
      "(0.5912873997748862, 0.5776772247360482, 0.5613266065668681, None)\n",
      "Accuracy score :\n",
      "0.7043740573152338\n",
      "(0.724709784411277, 0.6591251885369532, 0.6903633491311216, None)\n",
      "(0.7060616695223743, 0.7043740573152337, 0.7037675331514194, None)\n",
      "(0.7043740573152338, 0.7043740573152338, 0.7043740573152338, None)\n",
      "(0.7060616695223744, 0.7043740573152338, 0.7037675331514194, None)\n",
      "[    0     1     2 ... 12606 12607 12608] [ 5973  5974  5975 ... 13269 13270 13271]\n"
     ]
    },
    {
     "name": "stderr",
     "output_type": "stream",
     "text": [
      "c:\\users\\khalil\\appdata\\local\\programs\\python\\python37\\lib\\site-packages\\sklearn\\linear_model\\logistic.py:433: FutureWarning: Default solver will be changed to 'lbfgs' in 0.22. Specify a solver to silence this warning.\n",
      "  FutureWarning)\n"
     ]
    },
    {
     "name": "stdout",
     "output_type": "stream",
     "text": [
      "Accuracy score :\n",
      "0.6199095022624435\n",
      "(0.5997490589711418, 0.7209653092006033, 0.6547945205479452, None)\n",
      "(0.6250163064231891, 0.6199095022624435, 0.6159878643008183, None)\n",
      "(0.6199095022624435, 0.6199095022624435, 0.6199095022624435, None)\n",
      "(0.6250163064231891, 0.6199095022624435, 0.6159878643008183, None)\n"
     ]
    },
    {
     "name": "stderr",
     "output_type": "stream",
     "text": [
      "c:\\users\\khalil\\appdata\\local\\programs\\python\\python37\\lib\\site-packages\\sklearn\\svm\\base.py:922: ConvergenceWarning: Liblinear failed to converge, increase the number of iterations.\n",
      "  \"the number of iterations.\", ConvergenceWarning)\n",
      "c:\\users\\khalil\\appdata\\local\\programs\\python\\python37\\lib\\site-packages\\sklearn\\ensemble\\forest.py:246: FutureWarning: The default value of n_estimators will change from 10 in version 0.20 to 100 in 0.22.\n",
      "  \"10 in version 0.20 to 100 in 0.22.\", FutureWarning)\n"
     ]
    },
    {
     "name": "stdout",
     "output_type": "stream",
     "text": [
      "Accuracy score :\n",
      "0.552790346907994\n",
      "(0.538546255506608, 0.7375565610859729, 0.622533418204965, None)\n",
      "(0.561139156461438, 0.552790346907994, 0.5369836378721402, None)\n",
      "(0.552790346907994, 0.552790346907994, 0.552790346907994, None)\n",
      "(0.561139156461438, 0.552790346907994, 0.5369836378721402, None)\n",
      "Accuracy score :\n",
      "0.7043740573152338\n",
      "(0.7308347529812607, 0.6470588235294118, 0.6864000000000001, None)\n",
      "(0.7070953196570715, 0.7043740573152337, 0.7033997146932953, None)\n",
      "(0.7043740573152338, 0.7043740573152338, 0.7043740573152338, None)\n",
      "(0.7070953196570714, 0.7043740573152338, 0.7033997146932953, None)\n",
      "Done With K-Fold processing\n"
     ]
    },
    {
     "data": {
      "text/html": [
       "<div>\n",
       "<style scoped>\n",
       "    .dataframe tbody tr th:only-of-type {\n",
       "        vertical-align: middle;\n",
       "    }\n",
       "\n",
       "    .dataframe tbody tr th {\n",
       "        vertical-align: top;\n",
       "    }\n",
       "\n",
       "    .dataframe thead th {\n",
       "        text-align: right;\n",
       "    }\n",
       "</style>\n",
       "<table border=\"1\" class=\"dataframe\">\n",
       "  <thead>\n",
       "    <tr style=\"text-align: right;\">\n",
       "      <th></th>\n",
       "      <th>Model Name</th>\n",
       "      <th>Accuracy</th>\n",
       "      <th>Precision</th>\n",
       "      <th>Recall</th>\n",
       "      <th>F1 Measure</th>\n",
       "    </tr>\n",
       "  </thead>\n",
       "  <tbody>\n",
       "    <tr>\n",
       "      <th>0</th>\n",
       "      <td>Logistic Regression</td>\n",
       "      <td>0.63</td>\n",
       "      <td>0.61</td>\n",
       "      <td>0.69</td>\n",
       "      <td>0.65</td>\n",
       "    </tr>\n",
       "    <tr>\n",
       "      <th>1</th>\n",
       "      <td>LinearSVc</td>\n",
       "      <td>0.55</td>\n",
       "      <td>0.61</td>\n",
       "      <td>0.63</td>\n",
       "      <td>0.51</td>\n",
       "    </tr>\n",
       "    <tr>\n",
       "      <th>2</th>\n",
       "      <td>Random Forest Classifier</td>\n",
       "      <td>0.69</td>\n",
       "      <td>0.73</td>\n",
       "      <td>0.61</td>\n",
       "      <td>0.66</td>\n",
       "    </tr>\n",
       "  </tbody>\n",
       "</table>\n",
       "</div>"
      ],
      "text/plain": [
       "                 Model Name  Accuracy  Precision  Recall  F1 Measure\n",
       "0       Logistic Regression      0.63       0.61    0.69        0.65\n",
       "1                 LinearSVc      0.55       0.61    0.63        0.51\n",
       "2  Random Forest Classifier      0.69       0.73    0.61        0.66"
      ]
     },
     "execution_count": 14,
     "metadata": {},
     "output_type": "execute_result"
    }
   ],
   "source": [
    "Skfold_log_Eval = []\n",
    "Skfold_lin_Eval = []\n",
    "Skfold_random_Eval = []\n",
    "\n",
    "# learning started from here\n",
    "Skf = StratifiedKFold(n_splits=10)\n",
    "for train, test in Skf.split(data_df.drop('default payment next month', axis=1),data_df['default payment next month']):\n",
    "    print(\"%s %s\" % (train, test))\n",
    "    train_df = data_df.iloc[train]\n",
    "    test_df =  data_df.iloc[test]\n",
    "    X_train = train_df.drop(\"default payment next month\" , axis = 1)\n",
    "    y_train = train_df['default payment next month']\n",
    "    X_test = test_df.drop('default payment next month', axis = 1)\n",
    "    y_test = test_df['default payment next month']\n",
    "#     Logistic Regression\n",
    "    logisticRegression = LogisticRegression()\n",
    "    logisticRegression.fit(X_train,y_train)\n",
    "    logReg_Predictions = logisticRegression.predict(X_test)\n",
    "    Skfold_log_Eval.append(evaluation('Logistic Regression',y_test,logReg_Predictions))\n",
    "    \n",
    "#     Linear SVC\n",
    "    linearsvc = LinearSVC()\n",
    "    linearsvc.fit(X_train,y_train)\n",
    "    linearsvc_Predictions = linearsvc.predict(X_test)\n",
    "    Skfold_lin_Eval.append(evaluation('LinearSVC',y_test,linearsvc_Predictions))\n",
    "    \n",
    "#     Random Forest\n",
    "    random_forest = RandomForestClassifier()\n",
    "    random_forest.fit(X_train,y_train)\n",
    "    random_forest_Predictions = random_forest.predict(X_test)\n",
    "    Skfold_random_Eval.append(evaluation('Random Forest Classifier',y_test,random_forest_Predictions))\n",
    "    \n",
    "print('Done With K-Fold processing')\n",
    "\n",
    "logistic_reg_evaluation_df = pd.DataFrame(\n",
    "    Skfold_log_Eval ,\n",
    "    columns=['Model Name','Accuracy','Precision','Recall','F1 Measure'])\n",
    "logistic_reg_evaluation_df\n",
    "\n",
    "linearsvc_evaluation_df = pd.DataFrame(\n",
    "    Skfold_lin_Eval ,\n",
    "    columns=['Model Name','Accuracy','Precision','Recall','F1 Measure'])\n",
    "linearsvc_evaluation_df\n",
    "\n",
    "random_forest_evaluation_df = pd.DataFrame(\n",
    "    Skfold_random_Eval ,\n",
    "    columns=['Model Name','Accuracy','Precision','Recall','F1 Measure'])\n",
    "random_forest_evaluation_df\n",
    "\n",
    "SkFold_All_Evaluation_Final =[\n",
    "    {'Model Name':\"Logistic Regression\",\n",
    "     \"Accuracy\":round( \n",
    "         sum(\n",
    "             (logistic_reg_evaluation_df[\"Accuracy\"])\n",
    "         )/ len(logistic_reg_evaluation_df[\"Accuracy\"])\n",
    "     \n",
    "      ,2),\n",
    "     \"Precision\":round( \n",
    "         sum(\n",
    "             (logistic_reg_evaluation_df[\"Precision\"])\n",
    "         )/ len(logistic_reg_evaluation_df[\"Precision\"])\n",
    "     \n",
    "      ,2),\n",
    "     \"Recall\":round( \n",
    "         sum(\n",
    "             (logistic_reg_evaluation_df[\"Recall\"])\n",
    "         )/ len(logistic_reg_evaluation_df[\"Recall\"])\n",
    "     \n",
    "      ,2),\n",
    "     \"F1 Measure\":round( \n",
    "         sum(\n",
    "             (logistic_reg_evaluation_df[\"F1 Measure\"])\n",
    "         )/ len(logistic_reg_evaluation_df[\"F1 Measure\"])\n",
    "     \n",
    "      ,2)},\n",
    "    {'Model Name':\"LinearSVc\",\n",
    "     \"Accuracy\":round( \n",
    "         sum(\n",
    "             (linearsvc_evaluation_df[\"Accuracy\"])\n",
    "         )/ len(linearsvc_evaluation_df[\"Accuracy\"])\n",
    "     \n",
    "      ,2),\n",
    "     \"Precision\":round( \n",
    "         sum(\n",
    "             (linearsvc_evaluation_df[\"Precision\"])\n",
    "         )/ len(linearsvc_evaluation_df[\"Precision\"])\n",
    "     \n",
    "      ,2),\n",
    "     \"Recall\":round( \n",
    "         sum(\n",
    "             (linearsvc_evaluation_df[\"Recall\"])\n",
    "         )/ len(linearsvc_evaluation_df[\"Recall\"])\n",
    "     \n",
    "      ,2),\n",
    "     \"F1 Measure\":round( \n",
    "         sum(\n",
    "             (linearsvc_evaluation_df[\"F1 Measure\"])\n",
    "         )/ len(linearsvc_evaluation_df[\"F1 Measure\"])\n",
    "     \n",
    "      ,2)},\n",
    "        {'Model Name':\"Random Forest Classifier\",\n",
    "     \"Accuracy\":round( \n",
    "         sum(\n",
    "             (random_forest_evaluation_df[\"Accuracy\"])\n",
    "         )/ len(random_forest_evaluation_df[\"Accuracy\"])\n",
    "     \n",
    "      ,2),\n",
    "     \"Precision\":round( \n",
    "         sum(\n",
    "             (random_forest_evaluation_df[\"Precision\"])\n",
    "         )/ len(random_forest_evaluation_df[\"Precision\"])\n",
    "     \n",
    "      ,2),\n",
    "     \"Recall\":round( \n",
    "         sum(\n",
    "             (random_forest_evaluation_df[\"Recall\"])\n",
    "         )/ len(random_forest_evaluation_df[\"Recall\"])\n",
    "     \n",
    "      ,2),\n",
    "     \"F1 Measure\":round( \n",
    "         sum(\n",
    "             (random_forest_evaluation_df[\"F1 Measure\"])\n",
    "         )/ len(random_forest_evaluation_df[\"F1 Measure\"])\n",
    "     \n",
    "      ,2)}\n",
    "\n",
    "]\n",
    "SkFold_All_Evaluation_Final\n",
    "\n",
    "SkFold_All_Evaluation_df = pd.DataFrame(SkFold_All_Evaluation_Final,\n",
    "                                       columns=['Model Name','Accuracy','Precision','Recall','F1 Measure'])\n",
    "\n",
    "SkFold_All_Evaluation_df"
   ]
  },
  {
   "cell_type": "markdown",
   "metadata": {},
   "source": [
    "# Best Model\n",
    "## Random Forest"
   ]
  },
  {
   "cell_type": "code",
   "execution_count": 155,
   "metadata": {},
   "outputs": [
    {
     "name": "stderr",
     "output_type": "stream",
     "text": [
      "c:\\users\\dell\\appdata\\local\\programs\\python\\python37\\lib\\site-packages\\sklearn\\ensemble\\forest.py:246: FutureWarning: The default value of n_estimators will change from 10 in version 0.20 to 100 in 0.22.\n",
      "  \"10 in version 0.20 to 100 in 0.22.\", FutureWarning)\n"
     ]
    },
    {
     "name": "stdout",
     "output_type": "stream",
     "text": [
      "Best Model is Learned\n"
     ]
    }
   ],
   "source": [
    "X = data_df.drop('default payment next month',axis=1)\n",
    "y = data_df['default payment next month']\n",
    "random_forest = RandomForestClassifier()\n",
    "random_forest.fit(X,y)\n",
    "print('Best Model is Learned')"
   ]
  },
  {
   "cell_type": "code",
   "execution_count": 156,
   "metadata": {},
   "outputs": [
    {
     "name": "stdout",
     "output_type": "stream",
     "text": [
      "Saving best model\n"
     ]
    }
   ],
   "source": [
    "print('Saving best model')\n",
    "fileName = 'BestModel.sav'\n",
    "pickle.dump(random_forest,open(fileName,'wb'))"
   ]
  },
  {
   "cell_type": "markdown",
   "metadata": {},
   "source": [
    "# Loading best model"
   ]
  },
  {
   "cell_type": "code",
   "execution_count": 16,
   "metadata": {},
   "outputs": [
    {
     "name": "stdout",
     "output_type": "stream",
     "text": [
      "Loading best model\n",
      "Best model is loaded\n"
     ]
    }
   ],
   "source": [
    "fileName = 'BestModel.sav'\n",
    "print('Loading best model')\n",
    "bestModel = pickle.load(open(fileName,'rb'))\n",
    "print('Best model is loaded')"
   ]
  },
  {
   "cell_type": "markdown",
   "metadata": {},
   "source": [
    "# Making Application"
   ]
  },
  {
   "cell_type": "code",
   "execution_count": 18,
   "metadata": {},
   "outputs": [],
   "source": [
    "from tkinter import *\n",
    "import random\n",
    "\n",
    "root = Tk()\n",
    "root.title('Credit Card Prediction')\n",
    "#You can set the geometry attribute to change the root windows size\n",
    "root.geometry(\"500x180\") #You want the size of the app to be 500x500\n",
    "root.resizable(0, 0) #Don't allow resizing in the x or y direction\n",
    "\n",
    "# label\n",
    "label_text = \"Next Month Credit Card Defauter Prediction\"\n",
    "w = Label(root, text= label_text,font=(\"Helvetica\", 16))\n",
    "w.pack()\n",
    "w = Label(root, justify=CENTER)\n",
    "w.pack()\n",
    "def verification():\n",
    "    rand_unseen = pd.DataFrame(\n",
    "    [{\"LIMIT_BAL\":random.randint(20000, 180000),\n",
    "    \"SEX\":random.randint(1,2),\n",
    "    \"EDUCATION\":random.randint(1,3),\n",
    "    \"MARRIAGE\":random.randint(1,2),\n",
    "    \"AGE\":random.randint(24,58),\n",
    "    \"PAY_0\":random.randint(-2,2),\n",
    "    \"PAY_2\":random.randint(-2,2),\n",
    "    \"PAY_3\":random.randint(-2,2),\n",
    "    \"PAY_4\":random.randint(-2,2),\n",
    "    \"PAY_5\":random.randint(-2,2),\n",
    "    \"PAY_6\":random.randint(-2,2),\n",
    "    \"BILL_AMT1\":random.randint(0,152519),\n",
    "    \"BILL_AMT2\":random.randint(0,152519),\n",
    "    \"BILL_AMT3\":random.randint(0,152519),\n",
    "    \"BILL_AMT4\":random.randint(0,152519),\n",
    "    \"BILL_AMT5\":random.randint(0,152519),\n",
    "    \"BILL_AMT6\":random.randint(0,152519),\n",
    "    \"PAY_AMT1\":random.randint(0,152519),\n",
    "    \"PAY_AMT2\":random.randint(0,152519),\n",
    "    \"PAY_AMT3\":random.randint(0,152519),\n",
    "    \"PAY_AMT4\":random.randint(0,152519),\n",
    "    \"PAY_AMT5\":random.randint(0,152519),\n",
    "    \"PAY_AMT6\":random.randint(0,152519),\n",
    "     }\n",
    "    ])\n",
    "    prediction = bestModel.predict(rand_unseen)\n",
    "    if(prediction[0] == 1):\n",
    "        w.config(text='This card will be defaulter')\n",
    "#         print(\"fake\")\n",
    "    else:\n",
    "        w.config(text='This card will not be defaulter')\n",
    "#         print(\"Will not default\")\n",
    "    \n",
    "#     print(\"Start Button Work\")\n",
    "    \n",
    "button_start = Button(root,\n",
    "                      text=\"Verify Unseen Example\",\n",
    "                      height = 5,\n",
    "                      width=35,\n",
    "                      command=verification)\n",
    "button_start.pack(padx=10)\n",
    "\n",
    "root.mainloop()"
   ]
  }
 ],
 "metadata": {
  "kernelspec": {
   "display_name": "Python 3",
   "language": "python",
   "name": "python3"
  },
  "language_info": {
   "codemirror_mode": {
    "name": "ipython",
    "version": 3
   },
   "file_extension": ".py",
   "mimetype": "text/x-python",
   "name": "python",
   "nbconvert_exporter": "python",
   "pygments_lexer": "ipython3",
   "version": "3.7.1"
  }
 },
 "nbformat": 4,
 "nbformat_minor": 2
}
