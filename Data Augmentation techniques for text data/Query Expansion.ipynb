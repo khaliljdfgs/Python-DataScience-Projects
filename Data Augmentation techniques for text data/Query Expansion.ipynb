{
 "cells": [
  {
   "cell_type": "code",
   "execution_count": 5,
   "metadata": {},
   "outputs": [],
   "source": [
    "import string\n",
    "import nltk\n",
    "#nltk.download('wordnet')\n",
    "from nltk.corpus import wordnet\n",
    "from nltk.tokenize import  word_tokenize\n",
    "from nltk.corpus import stopwords\n",
    "f = open(\"QUERIES_for_training.302-450.txt\",\"r\")\n",
    "fout = open(\"QUERIES_for_training_Expanded.302-450\",\"w\", encoding=\"utf-8\")\n",
    "stop_words=set(stopwords.words(\"english\"))\n",
    "while 1:\n",
    "    line=f.readline()\n",
    "    if not line:\n",
    "        break\n",
    "    line=line.replace('\\n','')\n",
    "    line= line.split(\" \",1)\n",
    "    new_line=line[0]\n",
    "    line[1]=line[1].lower()\n",
    "    line[1]=line[1].translate(str.maketrans('','',string.punctuation))\n",
    "    word_tokens = word_tokenize(line[1])\n",
    "    filtered_sentence = [w for w in word_tokens if not w in stop_words]\n",
    "\n",
    "    synonyms=[]\n",
    "\n",
    "    count=0\n",
    "    for x in filtered_sentence:\n",
    "        \n",
    "        for syn in wordnet.synsets(x):\n",
    "            for l in syn.lemmas() :\n",
    "                if(count<3):\n",
    "                    if l.name() not in synonyms:\n",
    "                        synonyms.append(l.name())\n",
    "                        count+=1\n",
    "                        \n",
    "        count=0\n",
    "        \n",
    "    synonyms_string=' '.join(synonyms)\n",
    "    new_line=\" \".join([str(new_line),synonyms_string])\n",
    "    synonyms=[]\n",
    "    fout.write(new_line)\n",
    "    fout.write('\\n')\n",
    "\n",
    "\n",
    "f.close()\n",
    "fout.close()"
   ]
  },
  {
   "cell_type": "code",
   "execution_count": null,
   "metadata": {},
   "outputs": [],
   "source": []
  }
 ],
 "metadata": {
  "kernelspec": {
   "display_name": "Python 3",
   "language": "python",
   "name": "python3"
  },
  "language_info": {
   "codemirror_mode": {
    "name": "ipython",
    "version": 3
   },
   "file_extension": ".py",
   "mimetype": "text/x-python",
   "name": "python",
   "nbconvert_exporter": "python",
   "pygments_lexer": "ipython3",
   "version": "3.6.8"
  }
 },
 "nbformat": 4,
 "nbformat_minor": 2
}
