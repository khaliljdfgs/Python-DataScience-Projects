{
 "cells": [
  {
   "cell_type": "code",
   "execution_count": 3,
   "metadata": {},
   "outputs": [
    {
     "name": "stderr",
     "output_type": "stream",
     "text": [
      "[nltk_data] Downloading package stopwords to\n",
      "[nltk_data]     C:\\Users\\Khalil\\AppData\\Roaming\\nltk_data...\n",
      "[nltk_data]   Unzipping corpora\\stopwords.zip.\n"
     ]
    }
   ],
   "source": [
    "from nltk import word_tokenize\n",
    "import nltk\n",
    "nltk.download('stopwords')\n",
    "from nltk.corpus import stopwords"
   ]
  },
  {
   "cell_type": "code",
   "execution_count": 4,
   "metadata": {},
   "outputs": [],
   "source": [
    "stoplist = stopwords.words('english')"
   ]
  },
  {
   "cell_type": "code",
   "execution_count": 15,
   "metadata": {},
   "outputs": [],
   "source": [
    "def get_synonyms_lexicon(path):\n",
    "    synonyms_lexicon = {}\n",
    "    text_entries = [l.strip() for l in open(path, encoding=\"utf8\").readlines()]\n",
    "    for e in text_entries:\n",
    "        e = e.split(' ')\n",
    "        k = e[0]\n",
    "        v = e[1:len(e)]\n",
    "        synonyms_lexicon[k] = v\n",
    "    return synonyms_lexicon"
   ]
  },
  {
   "cell_type": "code",
   "execution_count": 16,
   "metadata": {},
   "outputs": [],
   "source": [
    "def synonym_replacement(sentence, synonyms_lexicon):\n",
    "    keys = synonyms_lexicon.keys()\n",
    "    words = word_tokenize(sentence)\n",
    "    n_sentence =sentence\n",
    "    for w in words:\n",
    "        if w not in stoplist:\n",
    "            if w in keys:\n",
    "                n_sentence = n_sentence.replace(w,synonyms_lexicon[w][0])\n",
    "    return n_sentence"
   ]
  },
  {
   "cell_type": "code",
   "execution_count": 17,
   "metadata": {},
   "outputs": [
    {
     "name": "stdout",
     "output_type": "stream",
     "text": [
      "['Many customers initiated a return process of the product as it was not suitable for use', 'It was conditioned in very thin box which caused scratches on the main screen', 'The involved firms positively answered their clients who were fully refunded']\n",
      "Many customers initiated a return process of the product as it was not suitable for use\n",
      "Many customers launched a return process of the product as it was not appropriate for use\n",
      "\n",
      "\n",
      "It was conditioned in very thin box which caused scratches on the main screen\n",
      "It was packaged in very thin table which provoked scratches on the main screen\n",
      "\n",
      "\n",
      "The involved firms positively answered their clients who were fully refunded\n",
      "The involved firms favourably answered their clients who were fully reimbursed\n",
      "\n",
      "\n"
     ]
    }
   ],
   "source": [
    "text = 'Many customers initiated a return process of the product as it was not suitable for use.' \\\n",
    "           'It was conditioned in very thin box which caused scratches on the main screen.' \\\n",
    "           'The involved firms positively answered their clients who were fully refunded.'\n",
    "sentences = text.split('.')\n",
    "sentences.remove('')\n",
    "print (sentences)\n",
    "synonyms_lexicon = get_synonyms_lexicon('ppdb-xl.txt')\n",
    "for sentence in sentences:\n",
    "    new_sentence = synonym_replacement(sentence, synonyms_lexicon)\n",
    "    print ( sentence)\n",
    "    print (new_sentence)\n",
    "    print ('\\n')"
   ]
  },
  {
   "cell_type": "markdown",
   "metadata": {},
   "source": [
    "# Just for SnapShot"
   ]
  },
  {
   "cell_type": "code",
   "execution_count": 6,
   "metadata": {},
   "outputs": [
    {
     "name": "stdout",
     "output_type": "stream",
     "text": [
      "He conditioned everything in one box\n",
      "He packaged everything in one table\n",
      "\n",
      "\n",
      "Customers are replaced positively\n",
      "Customers are replaced favourably\n",
      "\n",
      "\n"
     ]
    }
   ],
   "source": [
    "from nltk import word_tokenize\n",
    "import nltk\n",
    "from nltk.corpus import stopwords\n",
    "\n",
    "stoplist = stopwords.words('english')\n",
    "\n",
    "def get_synonyms_lexicon(path):\n",
    "    synonyms_lexicon = {}\n",
    "    text_entries = [l.strip() for l in open(path, encoding=\"utf8\").readlines()]\n",
    "    for e in text_entries:\n",
    "        e = e.split(' ')\n",
    "        k = e[0]\n",
    "        v = e[1:len(e)]\n",
    "        synonyms_lexicon[k] = v\n",
    "    return synonyms_lexicon\n",
    "\n",
    "def synonym_replacement(sentence, synonyms_lexicon):\n",
    "    keys = synonyms_lexicon.keys()\n",
    "    words = word_tokenize(sentence)\n",
    "    n_sentence =sentence\n",
    "    for w in words:\n",
    "        if w not in stoplist:\n",
    "            if w in keys:\n",
    "                n_sentence = n_sentence.replace(w,synonyms_lexicon[w][0])\n",
    "    return n_sentence\n",
    "\n",
    "sentences = ['He conditioned everything in one box',\"Customers are replaced positively\"]\n",
    "synonyms_lexicon = get_synonyms_lexicon('ppdb-xl.txt')\n",
    "for sentence in sentences:\n",
    "    new_sentence = synonym_replacement(sentence, synonyms_lexicon)\n",
    "    print ( sentence)\n",
    "    print (new_sentence)\n",
    "    print ('\\n')"
   ]
  }
 ],
 "metadata": {
  "kernelspec": {
   "display_name": "Python 3",
   "language": "python",
   "name": "python3"
  },
  "language_info": {
   "codemirror_mode": {
    "name": "ipython",
    "version": 3
   },
   "file_extension": ".py",
   "mimetype": "text/x-python",
   "name": "python",
   "nbconvert_exporter": "python",
   "pygments_lexer": "ipython3",
   "version": "3.6.8"
  }
 },
 "nbformat": 4,
 "nbformat_minor": 2
}
