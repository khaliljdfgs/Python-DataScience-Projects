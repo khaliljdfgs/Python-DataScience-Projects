{
 "cells": [
  {
   "cell_type": "code",
   "execution_count": 1,
   "metadata": {},
   "outputs": [],
   "source": [
    "import nltk\n",
    "#nltk.download('punkt')\n",
    "from nltk import word_tokenize\n",
    "import random"
   ]
  },
  {
   "cell_type": "code",
   "execution_count": 2,
   "metadata": {},
   "outputs": [],
   "source": [
    "def shuffle_augment(sentence, n):\n",
    "    new_sentences = []\n",
    "    words = word_tokenize(sentence)\n",
    "    for i in range(n):\n",
    "        random.shuffle(words)\n",
    "        new_sentences.append(' '.join(words))\n",
    "    new_sentences = list(set(new_sentences))\n",
    "    return new_sentences"
   ]
  },
  {
   "cell_type": "code",
   "execution_count": 9,
   "metadata": {},
   "outputs": [
    {
     "name": "stdout",
     "output_type": "stream",
     "text": [
      "is beautiful Lahore\n",
      "beautiful Lahore is\n",
      "beautiful is Lahore\n",
      "Lahore is beautiful\n",
      "is Lahore beautiful\n"
     ]
    }
   ],
   "source": [
    "# sentences = shuffle_augment(\n",
    "#     \"It is word/sentence shuffle data augmentation with ten random words\",10)\n",
    "sentences = shuffle_augment(\n",
    "     \"Lahore is beautiful\",20)\n",
    "\n",
    "for s in sentences:\n",
    "    print ( s)"
   ]
  },
  {
   "cell_type": "markdown",
   "metadata": {},
   "source": [
    "# Below block is for snapshot"
   ]
  },
  {
   "cell_type": "code",
   "execution_count": null,
   "metadata": {},
   "outputs": [],
   "source": [
    "import nltk\n",
    "from nltk import word_tokenize\n",
    "import random\n",
    "\n",
    "def shuffle_augment(sentence, n):\n",
    "    new_sentences = []\n",
    "    words = word_tokenize(sentence)\n",
    "    for i in range(n):\n",
    "        random.shuffle(words)\n",
    "        new_sentences.append(' '.join(words))\n",
    "    new_sentences = list(set(new_sentences))\n",
    "    return new_sentences\n",
    "\n",
    "sentences = shuffle_augment(\n",
    "     \"Lahore is beautiful\",20)\n",
    "\n",
    "for s in sentences:\n",
    "    print ( s)"
   ]
  },
  {
   "cell_type": "code",
   "execution_count": null,
   "metadata": {},
   "outputs": [],
   "source": []
  }
 ],
 "metadata": {
  "kernelspec": {
   "display_name": "Python 3",
   "language": "python",
   "name": "python3"
  },
  "language_info": {
   "codemirror_mode": {
    "name": "ipython",
    "version": 3
   },
   "file_extension": ".py",
   "mimetype": "text/x-python",
   "name": "python",
   "nbconvert_exporter": "python",
   "pygments_lexer": "ipython3",
   "version": "3.6.8"
  }
 },
 "nbformat": 4,
 "nbformat_minor": 2
}
